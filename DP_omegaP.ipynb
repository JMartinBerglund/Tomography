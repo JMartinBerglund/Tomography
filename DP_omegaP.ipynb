{
 "cells": [
  {
   "cell_type": "markdown",
   "id": "109dc917",
   "metadata": {},
   "source": [
    "# Here we test the workings of the optimization routine DP_omega_S3"
   ]
  },
  {
   "cell_type": "code",
   "execution_count": 1,
   "id": "47f8a6df",
   "metadata": {},
   "outputs": [],
   "source": [
    "import os \n",
    "import sys\n",
    "sys.path.append(\"/home/martin/Work/Qutip/modules\")\n",
    "import math\n",
    "import Opt\n",
    "import Tomomod as Tm\n",
    "import Utility as Ut"
   ]
  },
  {
   "cell_type": "markdown",
   "id": "9b1669bd",
   "metadata": {},
   "source": [
    "Now we define the parameters and dictionaries we need for the optimization "
   ]
  },
  {
   "cell_type": "code",
   "execution_count": 12,
   "id": "96ce739c",
   "metadata": {},
   "outputs": [
    {
     "name": "stdout",
     "output_type": "stream",
     "text": [
      "-108.62895800065621\n"
     ]
    }
   ],
   "source": [
    "# Extracting result from 2D and 3D \n",
    "Ps2D = Tm.Pstar()\n",
    "Ps3D = 2.8832503479976155\n",
    "B = 1.\n",
    "dim = 5\n",
    "Trot = 2.*math.pi * (6.*B)**(-1.)\n",
    "cps = Tm.cosPhiS()\n",
    "phis = -math.acos(cps)\n",
    "print(180./math.pi*phis)\n",
    "l0 = 0.\n",
    "l3 = 1. - l0\n",
    "t2_DP = 2.03455041e+00\n",
    "t2_DP_omega = 2.021561399421254\n",
    "omega = 0.31"
   ]
  },
  {
   "cell_type": "code",
   "execution_count": 13,
   "id": "1e6545dd",
   "metadata": {},
   "outputs": [],
   "source": [
    "# Dictionaries for parameters and variables\n",
    "var      = {'omega': omega}\n",
    "param    = {'P': Ps3D, 't2': t2_DP_omega, 't1': 0., 'B': B}\n",
    "method   = {'Method': 'DP_omega'}\n",
    "target   = {'Target': 'S3'}\n",
    "lagrange = {'l0': l0, 'l3': l3}\n",
    "Op = 0.5 * (Tm.PauliN(0,dim) + Tm.PauliN(3,dim))"
   ]
  },
  {
   "cell_type": "markdown",
   "id": "1efb979b",
   "metadata": {},
   "source": [
    "Next we define methods that we will need for the optimization"
   ]
  },
  {
   "cell_type": "code",
   "execution_count": 14,
   "id": "687b80b4",
   "metadata": {},
   "outputs": [],
   "source": [
    "# Optimize S3\n",
    "def optimize_proj(Op, dim, var, param, method, target, lagrange):\n",
    "    \n",
    "    optimizer = Opt.Optimizer(Op, dim, var, param, method, target, lagrange)\n",
    "    optimizer.run_optimization()\n",
    "    \n",
    "    return optimizer\n",
    "\n",
    "# Plotting the results\n",
    "\n",
    "def plot_proj_time(t, op, tc=None, opc=None):\n",
    "    import matplotlib.pyplot as plt\n",
    "    from IPython.display import Image\n",
    "    %matplotlib inline\n",
    "\n",
    "    fig, ax = plt.subplots()\n",
    "    if (tc is None) or (opc is None):\n",
    "        ax.plot(t, op)\n",
    "    else:\n",
    "        ax.plot(t, op, tc, opc, 'x')\n",
    "    ax.set_xlabel('t (au)')\n",
    "    ax.set_ylabel('Proj(PauliN)')\n",
    "    plt.show()\n",
    "    \n",
    "def get_proj(Op, param, var, B, dim, which):\n",
    "    Pulses = Ut.Pulses([param['P1'], param['P2']], [param['t1'], var['t2']])\n",
    "    U = Ut.EvolutionOperators(Pulses, B, dim)\n",
    "    Op_BW = Ut.UBWO(U.U, Op)\n",
    "    Proj  = Ut.Proj(Op_BW, Tm.PauliN(which, dim))\n",
    "    \n",
    "    return Proj\n",
    "    \n",
    "def get_proj_vars(Op, P1, P2, t1, t2, dim, which):\n",
    "    Pulses = Ut.Pulses([P1, P2], [t1, t2])\n",
    "    U = Ut.EvolutionOperators(Pulses, B, dim)\n",
    "    Op_BW = Ut.UBWO(U.U, Op)\n",
    "    Proj  = Ut.Proj(Op_BW, Tm.PauliN(which, dim))\n",
    "    \n",
    "    return Proj"
   ]
  },
  {
   "cell_type": "code",
   "execution_count": 15,
   "id": "e576878d",
   "metadata": {},
   "outputs": [],
   "source": [
    "OS3_O = optimize_proj(Op, dim, var, param, method, target, lagrange)"
   ]
  },
  {
   "cell_type": "code",
   "execution_count": 16,
   "id": "6fea10b3",
   "metadata": {},
   "outputs": [
    {
     "name": "stdout",
     "output_type": "stream",
     "text": [
      "      fun: 5.519928440538138e-12\n",
      " hess_inv: array([[1]])\n",
      "      jac: array([-6.81042265e-07])\n",
      "  message: 'Optimization terminated successfully.'\n",
      "     nfev: 2\n",
      "      nit: 0\n",
      "     njev: 1\n",
      "   status: 0\n",
      "  success: True\n",
      "        x: array([0.31])\n"
     ]
    }
   ],
   "source": [
    "print(OS3_O.opt)"
   ]
  },
  {
   "cell_type": "code",
   "execution_count": null,
   "id": "ead289c8",
   "metadata": {},
   "outputs": [],
   "source": []
  }
 ],
 "metadata": {
  "kernelspec": {
   "display_name": "Python 3 (ipykernel)",
   "language": "python",
   "name": "python3"
  },
  "language_info": {
   "codemirror_mode": {
    "name": "ipython",
    "version": 3
   },
   "file_extension": ".py",
   "mimetype": "text/x-python",
   "name": "python",
   "nbconvert_exporter": "python",
   "pygments_lexer": "ipython3",
   "version": "3.10.12"
  }
 },
 "nbformat": 4,
 "nbformat_minor": 5
}
