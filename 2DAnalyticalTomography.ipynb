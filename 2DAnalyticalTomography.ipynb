{
 "cells": [
  {
   "cell_type": "markdown",
   "id": "a9a53d71",
   "metadata": {},
   "source": [
    "# Tutorial on class AnalyticalTomography"
   ]
  },
  {
   "cell_type": "code",
   "execution_count": 1,
   "id": "dba6cfcb",
   "metadata": {},
   "outputs": [],
   "source": [
    "import sys\n",
    "sys.path.append(\"/home/martin/Work/Qutip/modules/\")\n",
    "import math\n",
    "import numpy as np\n",
    "import Tomomod as Tm\n",
    "import Utility as Ut\n",
    "from qutip import basis"
   ]
  },
  {
   "cell_type": "markdown",
   "id": "06c4967e",
   "metadata": {},
   "source": [
    "Here we demonstrate 2 level basis tomogrophy sceme. It is analytical ly soluble, as demonstrated in...\n",
    "\n",
    "We start by defining some parameters and the object, $T2D$, which is an instance of the class AnalyticalTomography.\n",
    "If we do not specify an initial state, it will be assumed that the ground state applies."
   ]
  },
  {
   "cell_type": "markdown",
   "id": "99b271e5",
   "metadata": {},
   "source": [
    "## Initial considerations"
   ]
  },
  {
   "cell_type": "code",
   "execution_count": 2,
   "id": "334fc153",
   "metadata": {},
   "outputs": [],
   "source": [
    "P = 1.\n",
    "B = 1.\n",
    "T2D = Tm.AnalyticalTomography(P, B)"
   ]
  },
  {
   "cell_type": "markdown",
   "id": "35754f4c",
   "metadata": {},
   "source": [
    "The quantity $P^*$ is the pulse strength that is required to bring the projection of $\\sigma_3$ on itself to zero after backwards propagation in the impact approximation. It is accessable via AnalyticalTomogrophy as"
   ]
  },
  {
   "cell_type": "code",
   "execution_count": 3,
   "id": "fa4a7511",
   "metadata": {},
   "outputs": [
    {
     "name": "stdout",
     "output_type": "stream",
     "text": [
      "2.6726819190994378 -95.85670190991829\n"
     ]
    }
   ],
   "source": [
    "print(T2D.Pstar, T2D.DOstar*180./math.pi)"
   ]
  },
  {
   "cell_type": "markdown",
   "id": "3ea19cc5",
   "metadata": {},
   "source": [
    "Let's plot the projections of the Operator $ \\mathbf{O} = \\frac{1}{2} \\left(\\sigma_0 + \\sigma_3\\right)$ matrices on the four Pauli matrices after backwards propagation in the impact approximation under the influence of a pulse with pulse strength $P$. The operator, $\\mathbf{O}$, measures the ground state population of the given state."
   ]
  },
  {
   "cell_type": "code",
   "execution_count": 28,
   "id": "b07b5977",
   "metadata": {},
   "outputs": [
    {
     "data": {
      "image/png": "[encoded data removed]",
      "text/plain": [
       "<Figure size 432x288 with 1 Axes>"
      ]
     },
     "metadata": {
      "needs_background": "light"
     },
     "output_type": "display_data"
    }
   ],
   "source": [
    "Ps = np.linspace(0., 6., 40)\n",
    "T2D.plot_StokesP(Ps)"
   ]
  },
  {
   "cell_type": "markdown",
   "id": "416f36bc",
   "metadata": {},
   "source": [
    "We see that the projections on $\\sigma_0$ and $\\sigma_3$ are both initially $1$, as expected. The projection on $\\sigma_0$ stays one, since we are using a 2-level basis, so the total population on the first two states remains $1$. The projection on $\\sigma_3$, however, is reducedby the interaction of the field. It reaches the value $0$ close to $P=2.7$, which is consistent with the value for $P^*$ that we have seen."
   ]
  },
  {
   "cell_type": "markdown",
   "id": "cd0b4411",
   "metadata": {},
   "source": [
    "Next we print the projections on the Pauli matrices $\\sigma_i, \\quad i = 1,2,3$ at $P^*$"
   ]
  },
  {
   "cell_type": "code",
   "execution_count": 29,
   "id": "f4534aa8",
   "metadata": {},
   "outputs": [
    {
     "name": "stdout",
     "output_type": "stream",
     "text": [
      "i=1: -0.31943828249997 i=2: 0.947607082958686 i=3: 6.641580227498368e-17\n"
     ]
    }
   ],
   "source": [
    "print(\"i=1:\",Tm.Stokesi(1, T2D.Pstar), \"i=2:\", Tm.Stokesi(2,T2D.Pstar), \"i=3:\", Tm.Stokesi(3,T2D.Pstar))"
   ]
  },
  {
   "cell_type": "markdown",
   "id": "08ea84da",
   "metadata": {},
   "source": [
    "Note that the projection onto $\\sigma_2$ is much larger than the projection onto $\\sigma_1$."
   ]
  },
  {
   "cell_type": "markdown",
   "id": "516cd163",
   "metadata": {},
   "source": [
    "## State tomography"
   ]
  },
  {
   "cell_type": "markdown",
   "id": "a775b01c",
   "metadata": {},
   "source": [
    "We continue by considering a tomographic scheme, where we measure the final ground state population of the propagated initial state for three different sets of values $\\{P, t\\}$. The final ground state population is related to the final $S_3$-value by $S_3 = 2|c_0|^2-1$. "
   ]
  },
  {
   "cell_type": "code",
   "execution_count": 9,
   "id": "93cd1951",
   "metadata": {},
   "outputs": [
    {
     "name": "stdout",
     "output_type": "stream",
     "text": [
      "Quantum object: dims = [[2], [1]], shape = (2, 1), type = ket\n",
      "Qobj data =\n",
      "[[1.]\n",
      " [0.]]\n"
     ]
    }
   ],
   "source": [
    "print(T2D.istate)"
   ]
  },
  {
   "cell_type": "code",
   "execution_count": 10,
   "id": "896b8d5e",
   "metadata": {},
   "outputs": [
    {
     "name": "stdout",
     "output_type": "stream",
     "text": [
      "[[ 0.48224892+0.51714213j  0.48224892+0.51714213j]\n",
      " [-0.64409631+0.2917875j   0.64409631-0.2917875j ]]\n",
      "[[ 0.48224892+0.51714213j  0.51714213-0.48224892j]\n",
      " [-0.64409631+0.2917875j  -0.2917875 -0.64409631j]]\n",
      "[[1.+0.j 0.+0.j]\n",
      " [0.+0.j 1.+0.j]]\n"
     ]
    }
   ],
   "source": [
    "for i in range(3):\n",
    "    print(T2D.Us[i].full())"
   ]
  },
  {
   "cell_type": "code",
   "execution_count": 11,
   "id": "367949c1",
   "metadata": {},
   "outputs": [],
   "source": [
    "T2D.tomo_run()"
   ]
  },
  {
   "cell_type": "code",
   "execution_count": 12,
   "id": "170de320",
   "metadata": {},
   "outputs": [
    {
     "name": "stdout",
     "output_type": "stream",
     "text": [
      "Initial Stokes parameter 0 : 1.0\n",
      "Initial Stokes parameter 1 : 0.0\n",
      "Initial Stokes parameter 2 : 0.0\n",
      "Initial Stokes parameter 3 : 1.0\n"
     ]
    }
   ],
   "source": [
    "T2D.print_iStokes()"
   ]
  },
  {
   "cell_type": "code",
   "execution_count": 13,
   "id": "af4c4ba4",
   "metadata": {},
   "outputs": [
    {
     "name": "stdout",
     "output_type": "stream",
     "text": [
      "Stokes parameter 0 : 1.0\n",
      "Stokes parameter 1 : 6.661338147750939e-16\n",
      "Stokes parameter 2 : 6.661338147750939e-16\n",
      "Stokes parameter 3 : 1.0\n"
     ]
    }
   ],
   "source": [
    "T2D.print_Stokes()"
   ]
  },
  {
   "cell_type": "code",
   "execution_count": 23,
   "id": "07284f23",
   "metadata": {},
   "outputs": [],
   "source": [
    "T2D2 = Tm.AnalyticalTomography(P, B, istate=(basis(2,0) + 1.j*basis(2,1)).unit())\n",
    "#T2D2 = Tm.AnalyticalTomography(P, B, istate=basis(2,1))"
   ]
  },
  {
   "cell_type": "code",
   "execution_count": 24,
   "id": "0e74c4ec",
   "metadata": {},
   "outputs": [],
   "source": [
    "T2D2.tomo_run()"
   ]
  },
  {
   "cell_type": "code",
   "execution_count": 25,
   "id": "892ca59b",
   "metadata": {},
   "outputs": [
    {
     "name": "stdout",
     "output_type": "stream",
     "text": [
      "Initial Stokes parameter 0 : 0.9999999999999998\n",
      "Initial Stokes parameter 1 : 0.0\n",
      "Initial Stokes parameter 2 : 0.9999999999999998\n",
      "Initial Stokes parameter 3 : 0.0\n",
      "Stokes parameter 0 : 1.0\n",
      "Stokes parameter 1 : -2.220446049250313e-16\n",
      "Stokes parameter 2 : 0.9999999999999996\n",
      "Stokes parameter 3 : -2.220446049250313e-16\n"
     ]
    }
   ],
   "source": [
    "T2D2.print_iStokes()\n",
    "T2D2.print_Stokes()"
   ]
  },
  {
   "cell_type": "code",
   "execution_count": 26,
   "id": "41bcfb5b",
   "metadata": {},
   "outputs": [
    {
     "data": {
      "text/latex": [
       "Quantum object: dims = [[2], [1]], shape = (2, 1), type = ket $ \\\\ \\left(\\begin{matrix}0.707\\\\0.707j\\\\\\end{matrix}\\right)$"
      ],
      "text/plain": [
       "Quantum object: dims = [[2], [1]], shape = (2, 1), type = ket\n",
       "Qobj data =\n",
       "[[0.70710678+0.j        ]\n",
       " [0.        +0.70710678j]]"
      ]
     },
     "execution_count": 26,
     "metadata": {},
     "output_type": "execute_result"
    }
   ],
   "source": [
    "T2D2.istate"
   ]
  },
  {
   "cell_type": "code",
   "execution_count": 27,
   "id": "c67486fd",
   "metadata": {},
   "outputs": [
    {
     "name": "stdout",
     "output_type": "stream",
     "text": [
      "(-0.16184738910068852+0.8089296261982993j)\n"
     ]
    }
   ],
   "source": [
    "print(Ut.Proj(Tm.Pauli(1), T2D2.Us[0]))"
   ]
  },
  {
   "cell_type": "code",
   "execution_count": null,
   "id": "98a2e212",
   "metadata": {},
   "outputs": [],
   "source": []
  }
 ],
 "metadata": {
  "kernelspec": {
   "display_name": "Python 3 (ipykernel)",
   "language": "python",
   "name": "python3"
  },
  "language_info": {
   "codemirror_mode": {
    "name": "ipython",
    "version": 3
   },
   "file_extension": ".py",
   "mimetype": "text/x-python",
   "name": "python",
   "nbconvert_exporter": "python",
   "pygments_lexer": "ipython3",
   "version": "3.10.12"
  }
 },
 "nbformat": 4,
 "nbformat_minor": 5
}
