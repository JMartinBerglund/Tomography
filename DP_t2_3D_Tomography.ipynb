{
 "cells": [
  {
   "cell_type": "code",
   "execution_count": 78,
   "id": "3a898bb6",
   "metadata": {},
   "outputs": [],
   "source": [
    "import os \n",
    "import sys\n",
    "sys.path.append(\"/home/martin/Work/Qutip/modules\")\n",
    "import math\n",
    "import Opt\n",
    "import Tomomod as Tm\n",
    "import Utility as Ut"
   ]
  },
  {
   "cell_type": "code",
   "execution_count": 130,
   "id": "4f486bf3",
   "metadata": {},
   "outputs": [
    {
     "name": "stdout",
     "output_type": "stream",
     "text": [
      "-108.62895800065621\n"
     ]
    }
   ],
   "source": [
    "# Extracting result from 2D and 3D \n",
    "Ps2D = Tm.Pstar()\n",
    "Ps3D = 2.8832503479976155\n",
    "B = 1.\n",
    "Trot = 2.*math.pi * (6.*B)**(-1.)\n",
    "cps = Tm.cosPhiS()\n",
    "phis = -math.acos(cps)\n",
    "print(180./math.pi*phis)\n",
    "l0 = 0.\n",
    "l3 = 1. - l0"
   ]
  },
  {
   "cell_type": "code",
   "execution_count": 131,
   "id": "677cb447",
   "metadata": {},
   "outputs": [],
   "source": [
    "# Dictionaries for parameters and variables\n",
    "var      = {'t2': 0.}\n",
    "param    = {'P1': Ps3D/2., 'P2': Ps3D/2., 't1': 0., 'B': B}\n",
    "method   = {'Method': 'DP_t2'}\n",
    "target   = {'Target': 'S3'}\n",
    "lagrange = {'l0': l0, 'l3': l3}"
   ]
  },
  {
   "cell_type": "code",
   "execution_count": 132,
   "id": "cc9c6dc9",
   "metadata": {},
   "outputs": [],
   "source": [
    "# Dimension of basis\n",
    "dim = 3"
   ]
  },
  {
   "cell_type": "code",
   "execution_count": 133,
   "id": "d733f402",
   "metadata": {},
   "outputs": [],
   "source": [
    "n = 0\n",
    "T1 = float(n) * math.pi / (3.*B) - phis / (6.*B)\n",
    "T2 = float(n) * math.pi / (3.*B) + (0.5*math.pi - phis) / (6.*B)\n",
    "#T2 = T1 + math.pi/(12.*B)"
   ]
  },
  {
   "cell_type": "code",
   "execution_count": 134,
   "id": "01d1fbd4",
   "metadata": {},
   "outputs": [],
   "source": [
    "# Optimize S3\n",
    "def optimize_proj(Op, dim, var, param, method, target, lagrange):\n",
    "    \n",
    "    optimizer = Opt.Optimizer(Op, dim, var, param, method, target, lagrange)\n",
    "    optimizer.run_optimization()\n",
    "    \n",
    "    return optimizer"
   ]
  },
  {
   "cell_type": "code",
   "execution_count": 135,
   "id": "d9ec0c0d",
   "metadata": {},
   "outputs": [
    {
     "name": "stdout",
     "output_type": "stream",
     "text": [
      "S3 True\n",
      "In run_optimization\n",
      "In optimization\n",
      "S3 DP_t2\n",
      "1.0\n"
     ]
    }
   ],
   "source": [
    "Op = 0.5 * (Tm.PauliN(0,dim) + Tm.PauliN(3,dim))\n",
    "#Op = Tm.PauliN(3,dim)\n",
    "OS3 = optimize_proj(Op, dim, var, param, method, target, lagrange)"
   ]
  },
  {
   "cell_type": "code",
   "execution_count": 136,
   "id": "2d47a55e",
   "metadata": {},
   "outputs": [
    {
     "name": "stdout",
     "output_type": "stream",
     "text": [
      "      fun: 4.7141168466063566e-14\n",
      " hess_inv: array([[1]])\n",
      "      jac: array([3.1752853e-07])\n",
      "  message: 'Optimization terminated successfully.'\n",
      "     nfev: 2\n",
      "      nit: 0\n",
      "     njev: 1\n",
      "   status: 0\n",
      "  success: True\n",
      "        x: array([0.])\n"
     ]
    }
   ],
   "source": [
    "print(OS3.opt)"
   ]
  },
  {
   "cell_type": "code",
   "execution_count": 137,
   "id": "91c56700",
   "metadata": {},
   "outputs": [
    {
     "data": {
      "text/plain": [
       "{'t2': 1.0471975511965976}"
      ]
     },
     "execution_count": 137,
     "metadata": {},
     "output_type": "execute_result"
    }
   ],
   "source": [
    "n = 1\n",
    "var.update(t2 = float(n)*Trot)\n",
    "var"
   ]
  },
  {
   "cell_type": "code",
   "execution_count": 138,
   "id": "629c1d66",
   "metadata": {},
   "outputs": [
    {
     "name": "stdout",
     "output_type": "stream",
     "text": [
      "S3 True\n",
      "In run_optimization\n",
      "In optimization\n",
      "S3 DP_t2\n",
      "1.0\n"
     ]
    }
   ],
   "source": [
    "OS3 = optimize_proj(Op, dim, var, param, method, target, lagrange)"
   ]
  },
  {
   "cell_type": "code",
   "execution_count": 139,
   "id": "a69ba954",
   "metadata": {},
   "outputs": [
    {
     "name": "stdout",
     "output_type": "stream",
     "text": [
      "      fun: 1.218902421668197e-14\n",
      " hess_inv: array([[0.10317943]])\n",
      "      jac: array([-4.14420783e-07])\n",
      "  message: 'Optimization terminated successfully.'\n",
      "     nfev: 14\n",
      "      nit: 5\n",
      "     njev: 7\n",
      "   status: 0\n",
      "  success: True\n",
      "        x: array([1.01762068])\n"
     ]
    }
   ],
   "source": [
    "print(OS3.opt)"
   ]
  },
  {
   "cell_type": "code",
   "execution_count": 140,
   "id": "36205630",
   "metadata": {},
   "outputs": [
    {
     "data": {
      "text/plain": [
       "{'t2': 1.0}"
      ]
     },
     "execution_count": 140,
     "metadata": {},
     "output_type": "execute_result"
    }
   ],
   "source": [
    "var.update(t2 = 1.)\n",
    "var"
   ]
  },
  {
   "cell_type": "code",
   "execution_count": 141,
   "id": "3d1c751c",
   "metadata": {},
   "outputs": [
    {
     "name": "stdout",
     "output_type": "stream",
     "text": [
      "S3 True\n",
      "In run_optimization\n",
      "In optimization\n",
      "S3 DP_t2\n",
      "1.0\n"
     ]
    }
   ],
   "source": [
    "OS3 = optimize_proj(Op, dim, var, param, method, target, lagrange)"
   ]
  },
  {
   "cell_type": "code",
   "execution_count": 142,
   "id": "84dc0e46",
   "metadata": {},
   "outputs": [
    {
     "name": "stdout",
     "output_type": "stream",
     "text": [
      "      fun: 2.0741002134730436e-16\n",
      " hess_inv: array([[0.08334733]])\n",
      "      jac: array([1.88077432e-08])\n",
      "  message: 'Optimization terminated successfully.'\n",
      "     nfev: 12\n",
      "      nit: 4\n",
      "     njev: 6\n",
      "   status: 0\n",
      "  success: True\n",
      "        x: array([1.18887769])\n"
     ]
    }
   ],
   "source": [
    "print(OS3.opt)"
   ]
  },
  {
   "cell_type": "code",
   "execution_count": 143,
   "id": "9f5ca8b2",
   "metadata": {},
   "outputs": [
    {
     "name": "stdout",
     "output_type": "stream",
     "text": [
      "2.0741002134730436e-16\n"
     ]
    }
   ],
   "source": [
    "print(OS3.opt.fun)"
   ]
  },
  {
   "cell_type": "code",
   "execution_count": 144,
   "id": "9c2eff03",
   "metadata": {},
   "outputs": [],
   "source": [
    "# Plotting the results\n",
    "\n",
    "def plot_proj_time(t, op, tc=None, opc=None):\n",
    "    import matplotlib.pyplot as plt\n",
    "    from IPython.display import Image\n",
    "    %matplotlib inline\n",
    "\n",
    "    fig, ax = plt.subplots()\n",
    "    if (tc is None) or (opc is None):\n",
    "        ax.plot(t, op)\n",
    "    else:\n",
    "        ax.plot(t, op, tc, opc, 'x')\n",
    "    ax.set_xlabel('t (au)')\n",
    "    ax.set_ylabel('Proj(PauliN)')\n",
    "    plt.show()\n",
    "    \n",
    "def get_proj(Op, param, var, B, dim, which):\n",
    "    Pulses = Ut.Pulses([param['P1'], param['P2']], [param['t1'], var['t2']])\n",
    "    U = Ut.EvolutionOperators(Pulses, B, dim)\n",
    "    Op_BW = Tm.UBWO(U.U, Op)\n",
    "    Proj  = Tm.Proj(Op_BW, Tm.PauliN(which, dim))\n",
    "    \n",
    "    return Proj\n",
    "    \n",
    "def get_proj_vars(Op, P1, P2, t1, t2, dim, which):\n",
    "    Pulses = Ut.Pulses([P1, P2], [t1, t2])\n",
    "    U = Ut.EvolutionOperators(Pulses, B, dim)\n",
    "    Op_BW = Tm.UBWO(U.U, Op)\n",
    "    Proj  = Tm.Proj(Op_BW, Tm.PauliN(which, dim))\n",
    "    \n",
    "    return Proj"
   ]
  },
  {
   "cell_type": "code",
   "execution_count": 145,
   "id": "58b45d70",
   "metadata": {},
   "outputs": [],
   "source": [
    "import numpy as np\n",
    "t0 = 0. #1.18887769\n",
    "dt = 0.01\n",
    "nt = 1000\n",
    "time = np.zeros(nt)\n",
    "S3   = np.zeros(nt)\n",
    "for i in range(nt):\n",
    "    t = t0 + float(i) * dt\n",
    "    time[i] = t #/ Trot\n",
    "    var.update(t2 = t)\n",
    "    OS3 = get_proj(Op, param, var, B, dim, 3)\n",
    "    S3[i] = OS3"
   ]
  },
  {
   "cell_type": "code",
   "execution_count": 146,
   "id": "1d82e381",
   "metadata": {
    "scrolled": true
   },
   "outputs": [
    {
     "data": {
      "image/png": "[encoded data removed]",
      "text/plain": [
       "<Figure size 432x288 with 1 Axes>"
      ]
     },
     "metadata": {
      "needs_background": "light"
     },
     "output_type": "display_data"
    }
   ],
   "source": [
    "#print(time, S3)\n",
    "plot_proj_time(time, S3)"
   ]
  },
  {
   "cell_type": "code",
   "execution_count": 147,
   "id": "40983e80",
   "metadata": {},
   "outputs": [
    {
     "name": "stdout",
     "output_type": "stream",
     "text": [
      "S3 True\n",
      "In run_optimization\n",
      "In optimization\n",
      "S3 DP_t2\n",
      "1.0\n",
      "S3 True\n",
      "In run_optimization\n",
      "In optimization\n",
      "S3 DP_t2\n",
      "1.0\n",
      "S3 True\n",
      "In run_optimization\n",
      "In optimization\n",
      "S3 DP_t2\n",
      "1.0\n",
      "S3 True\n",
      "In run_optimization\n",
      "In optimization\n",
      "S3 DP_t2\n",
      "1.0\n",
      "S3 True\n",
      "In run_optimization\n",
      "In optimization\n",
      "S3 DP_t2\n",
      "1.0\n",
      "S3 True\n",
      "In run_optimization\n",
      "In optimization\n",
      "S3 DP_t2\n",
      "1.0\n",
      "S3 True\n",
      "In run_optimization\n",
      "In optimization\n",
      "S3 DP_t2\n",
      "1.0\n",
      "S3 True\n",
      "In run_optimization\n",
      "In optimization\n",
      "S3 DP_t2\n",
      "1.0\n",
      "S3 True\n",
      "In run_optimization\n",
      "In optimization\n",
      "S3 DP_t2\n",
      "1.0\n",
      "S3 True\n",
      "In run_optimization\n",
      "In optimization\n",
      "S3 DP_t2\n",
      "1.0\n"
     ]
    }
   ],
   "source": [
    "t0 = 0.\n",
    "dt = 6.*Trot /(2.*math.pi)\n",
    "nt = 10\n",
    "timeC = np.zeros(nt)\n",
    "S3C   = np.zeros(nt)\n",
    "for i in range(nt):\n",
    "    t = t0 + float(i) * dt\n",
    "    var.update(t2 = t)\n",
    "    OS3_O = optimize_proj(Op, dim, var, param, method, target, lagrange)\n",
    "    timeC[i] = OS3_O.opt.x[0] #/ Trot\n",
    "    var.update(t2 = OS3_O.opt.x[0])\n",
    "    S3_BW = get_proj(Op, param, var, B, dim, 3)\n",
    "    S3C[i] = S3_BW\n"
   ]
  },
  {
   "cell_type": "code",
   "execution_count": 148,
   "id": "9d428719",
   "metadata": {},
   "outputs": [
    {
     "data": {
      "image/png": "[encoded data removed]",
      "text/plain": [
       "<Figure size 432x288 with 1 Axes>"
      ]
     },
     "metadata": {
      "needs_background": "light"
     },
     "output_type": "display_data"
    }
   ],
   "source": [
    "plot_proj_time(time, S3, timeC, S3C)"
   ]
  },
  {
   "cell_type": "code",
   "execution_count": 149,
   "id": "0544d541",
   "metadata": {},
   "outputs": [
    {
     "name": "stdout",
     "output_type": "stream",
     "text": [
      "[-2.17120171e-07 -1.44017367e-08 -1.66545332e-07 -6.72724033e-07\n",
      "  1.34250986e-07 -1.08831862e-06  1.08571141e-06  3.01693149e-08\n",
      "  2.10071049e-08  7.68642682e-08]\n"
     ]
    }
   ],
   "source": [
    "print(S3C)"
   ]
  },
  {
   "cell_type": "code",
   "execution_count": 150,
   "id": "2c0a8623",
   "metadata": {},
   "outputs": [
    {
     "name": "stdout",
     "output_type": "stream",
     "text": [
      "0.0\n",
      "1.188877690193597\n",
      "2.033808036125798\n",
      "3.141593291918418\n",
      "4.159213322214508\n",
      "5.175401115674056\n",
      "6.283183481845269\n",
      "7.300806023008346\n",
      "8.479297079818242\n",
      "9.424777548880487\n"
     ]
    }
   ],
   "source": [
    "S0 = np.zeros(nt)\n",
    "for i in range(nt):\n",
    "    t = timeC[i]\n",
    "    print(t)\n",
    "    var.update(t2 = t)\n",
    "    O_BW = get_proj(Op, param, var, B, dim, 0)\n",
    "    S0[i] = O_BW"
   ]
  },
  {
   "cell_type": "code",
   "execution_count": 151,
   "id": "06b70501",
   "metadata": {},
   "outputs": [
    {
     "name": "stdout",
     "output_type": "stream",
     "text": [
      "[0.         1.18887769 2.03380804 3.14159329 4.15921332 5.17540112\n",
      " 6.28318348 7.30080602 8.47929708 9.42477755]\n",
      "[0.92044852 0.96652399 0.9826716  0.92044847 0.95017947 0.98267159\n",
      " 0.92044868 0.95017949 0.92616988 0.92044856]\n",
      "[-2.17120171e-07 -1.44017367e-08 -1.66545332e-07 -6.72724033e-07\n",
      "  1.34250986e-07 -1.08831862e-06  1.08571141e-06  3.01693149e-08\n",
      "  2.10071049e-08  7.68642682e-08]\n"
     ]
    }
   ],
   "source": [
    "print(timeC)\n",
    "print(S0)\n",
    "print(S3C)"
   ]
  },
  {
   "cell_type": "code",
   "execution_count": 152,
   "id": "bc4b340e",
   "metadata": {},
   "outputs": [
    {
     "name": "stdout",
     "output_type": "stream",
     "text": [
      "1.942143613496645 0.9826716022101778 -1.6654533163684704e-07\n"
     ]
    }
   ],
   "source": [
    "print(timeC[2]/Trot, S0[2], S3C[2])"
   ]
  },
  {
   "cell_type": "markdown",
   "id": "d622adaf",
   "metadata": {},
   "source": [
    "Comparing with 4D"
   ]
  },
  {
   "cell_type": "code",
   "execution_count": 153,
   "id": "6a6c7dfa",
   "metadata": {},
   "outputs": [],
   "source": [
    "# The ground state measurment operator in N dimensions\n",
    "def meas_gs(dim):\n",
    "    return 0.5 * (Tm.PauliN(0, dim) + Tm.PauliN(3, dim))"
   ]
  },
  {
   "cell_type": "code",
   "execution_count": 154,
   "id": "72a9b2f2",
   "metadata": {},
   "outputs": [],
   "source": [
    "t0 = 0. #1.18887769\n",
    "dt = 0.01\n",
    "nt = 1000\n",
    "dim = 4\n",
    "Op = meas_gs(dim)\n",
    "time = np.zeros(nt)\n",
    "S3   = np.zeros(nt)\n",
    "for i in range(nt):\n",
    "    t = t0 + float(i) * dt\n",
    "    time[i] = t #/ Trot\n",
    "    var.update(t2 = t)\n",
    "    OS3 = get_proj(Op, param, var, B, dim, 3)\n",
    "    S3[i] = OS3"
   ]
  },
  {
   "cell_type": "code",
   "execution_count": 155,
   "id": "45cfb671",
   "metadata": {},
   "outputs": [
    {
     "data": {
      "image/png": "[encoded data removed]",
      "text/plain": [
       "<Figure size 432x288 with 1 Axes>"
      ]
     },
     "metadata": {
      "needs_background": "light"
     },
     "output_type": "display_data"
    }
   ],
   "source": [
    "plot_proj_time(time, S3)"
   ]
  },
  {
   "cell_type": "code",
   "execution_count": 156,
   "id": "6b8f5778",
   "metadata": {},
   "outputs": [
    {
     "name": "stdout",
     "output_type": "stream",
     "text": [
      "{'P1': 1.4416251739988077, 'P2': 1.4416251739988077, 't1': 0.0, 'B': 1.0}\n",
      "S3 True\n",
      "In run_optimization\n",
      "In optimization\n",
      "S3 DP_t2\n",
      "1.0\n",
      "S3 True\n",
      "In run_optimization\n",
      "In optimization\n",
      "S3 DP_t2\n",
      "1.0\n",
      "S3 True\n",
      "In run_optimization\n",
      "In optimization\n",
      "S3 DP_t2\n",
      "1.0\n",
      "S3 True\n",
      "In run_optimization\n",
      "In optimization\n",
      "S3 DP_t2\n",
      "1.0\n",
      "S3 True\n",
      "In run_optimization\n",
      "In optimization\n",
      "S3 DP_t2\n",
      "1.0\n",
      "S3 True\n",
      "In run_optimization\n",
      "In optimization\n",
      "S3 DP_t2\n",
      "1.0\n",
      "S3 True\n",
      "In run_optimization\n",
      "In optimization\n",
      "S3 DP_t2\n",
      "1.0\n",
      "S3 True\n",
      "In run_optimization\n",
      "In optimization\n",
      "S3 DP_t2\n",
      "1.0\n",
      "S3 True\n",
      "In run_optimization\n",
      "In optimization\n",
      "S3 DP_t2\n",
      "1.0\n",
      "S3 True\n",
      "In run_optimization\n",
      "In optimization\n",
      "S3 DP_t2\n",
      "1.0\n"
     ]
    }
   ],
   "source": [
    "t0 = 0.\n",
    "dt = Trot\n",
    "nt = 10\n",
    "#dim = 4\n",
    "#Op = meas_gs(dim)\n",
    "print(param)\n",
    "timeC = np.zeros(nt)\n",
    "S3C   = np.zeros(nt)\n",
    "for i in range(nt):\n",
    "    t = t0 + float(i) * dt\n",
    "    var.update(t2 = t)\n",
    "    OS3_O = optimize_proj(Op, dim, var, param, method, target, lagrange)\n",
    "    timeC[i] = OS3_O.opt.x[0]# / Trot\n",
    "    var.update(t2 = OS3_O.opt.x[0])\n",
    "    S3_BW = get_proj(Op, param, var, B, dim, 3)\n",
    "    S3C[i] = S3_BW"
   ]
  },
  {
   "cell_type": "code",
   "execution_count": 157,
   "id": "ac77aab5",
   "metadata": {},
   "outputs": [
    {
     "data": {
      "image/png": "[encoded data removed]",
      "text/plain": [
       "<Figure size 432x288 with 1 Axes>"
      ]
     },
     "metadata": {
      "needs_background": "light"
     },
     "output_type": "display_data"
    }
   ],
   "source": [
    "plot_proj_time(time, S3, timeC, S3C)"
   ]
  },
  {
   "cell_type": "code",
   "execution_count": 158,
   "id": "ad8e6431",
   "metadata": {},
   "outputs": [
    {
     "name": "stdout",
     "output_type": "stream",
     "text": [
      "-0.0039023587095407355\n",
      "1.017144528749354\n",
      "2.0345504119508715\n",
      "3.137690294879695\n",
      "4.158737182339058\n",
      "5.176143065542021\n",
      "6.279282948469771\n",
      "7.300329835929076\n",
      "8.317735719130733\n",
      "9.420875602059818\n"
     ]
    }
   ],
   "source": [
    "S0 = np.zeros(nt)\n",
    "for i in range(nt):\n",
    "    t = timeC[i]\n",
    "    print(t)\n",
    "    var.update(t2 = t)\n",
    "    O_BW = get_proj(Op, param, var, B, dim, 0)\n",
    "    S0[i] = O_BW"
   ]
  },
  {
   "cell_type": "code",
   "execution_count": 159,
   "id": "79b424bb",
   "metadata": {},
   "outputs": [
    {
     "name": "stdout",
     "output_type": "stream",
     "text": [
      "[-3.90235871e-03  1.01714453e+00  2.03455041e+00  3.13769029e+00\n",
      "  4.15873718e+00  5.17614307e+00  6.27928295e+00  7.30032984e+00\n",
      "  8.31773572e+00  9.42087560e+00]\n",
      "[0.92302067 0.9507449  0.98145885 0.92302067 0.9507449  0.98145885\n",
      " 0.92302067 0.9507449  0.98145885 0.92302067]\n",
      "[-3.17824502e-08  1.27870839e-07 -1.98290331e-07 -3.17820315e-08\n",
      "  1.27871037e-07 -1.98293255e-07 -3.17822445e-08  1.27870539e-07\n",
      " -1.98290924e-07 -3.17824349e-08]\n"
     ]
    }
   ],
   "source": [
    "print(timeC)\n",
    "print(S0)\n",
    "print(S3C)"
   ]
  },
  {
   "cell_type": "code",
   "execution_count": 160,
   "id": "97570976",
   "metadata": {},
   "outputs": [
    {
     "name": "stdout",
     "output_type": "stream",
     "text": [
      "1.9428525301897992 0.9814588468337571 -1.9829033054419298e-07\n"
     ]
    }
   ],
   "source": [
    "print(timeC[2]/Trot, S0[2], S3C[2])"
   ]
  },
  {
   "cell_type": "markdown",
   "id": "e83bb40c",
   "metadata": {},
   "source": [
    "Finding S1"
   ]
  },
  {
   "cell_type": "code",
   "execution_count": 161,
   "id": "bab8ba2f",
   "metadata": {},
   "outputs": [],
   "source": [
    "var = {'t1': 0.}\n",
    "param.update(t2 = timeC[2])\n",
    "param\n",
    "try:\n",
    "    del param['t1']\n",
    "except:\n",
    "    KeyError\n",
    "target.update(Target = 'S1')\n",
    "method.update(Method = 'DP_t1')\n",
    "try:\n",
    "    del lagrange['l3']\n",
    "except:\n",
    "    KeyError\n",
    "lagrange.update(l1 = 1. - l0)\n",
    "        "
   ]
  },
  {
   "cell_type": "code",
   "execution_count": 162,
   "id": "eec97786",
   "metadata": {},
   "outputs": [
    {
     "data": {
      "text/plain": [
       "{'l0': 0.0, 'l1': 1.0}"
      ]
     },
     "execution_count": 162,
     "metadata": {},
     "output_type": "execute_result"
    }
   ],
   "source": [
    "lagrange"
   ]
  },
  {
   "cell_type": "code",
   "execution_count": 163,
   "id": "d20b1652",
   "metadata": {},
   "outputs": [
    {
     "data": {
      "text/plain": [
       "{'P1': 1.4416251739988077,\n",
       " 'P2': 1.4416251739988077,\n",
       " 'B': 1.0,\n",
       " 't2': 2.0345504119508715}"
      ]
     },
     "execution_count": 163,
     "metadata": {},
     "output_type": "execute_result"
    }
   ],
   "source": [
    "param"
   ]
  },
  {
   "cell_type": "code",
   "execution_count": 164,
   "id": "ebda9edf",
   "metadata": {},
   "outputs": [
    {
     "name": "stdout",
     "output_type": "stream",
     "text": [
      "S1 True\n",
      "In run_optimization\n",
      "In optimization\n",
      "S1 DP_t1\n"
     ]
    }
   ],
   "source": [
    "dim = 3\n",
    "Op = meas_gs(dim)\n",
    "OS1_O = optimize_proj(Op, dim, var, param, method, target, lagrange)\n"
   ]
  },
  {
   "cell_type": "code",
   "execution_count": 165,
   "id": "df5f16fb",
   "metadata": {},
   "outputs": [
    {
     "name": "stdout",
     "output_type": "stream",
     "text": [
      "      fun: 0.0003012666127797825\n",
      " hess_inv: array([[0.80238532]])\n",
      "      jac: array([-8.02689101e-06])\n",
      "  message: 'Optimization terminated successfully.'\n",
      "     nfev: 24\n",
      "      nit: 10\n",
      "     njev: 12\n",
      "   status: 0\n",
      "  success: True\n",
      "        x: array([0.36360587])\n"
     ]
    }
   ],
   "source": [
    "print(OS1_O.opt)"
   ]
  },
  {
   "cell_type": "code",
   "execution_count": 166,
   "id": "c92038d8",
   "metadata": {},
   "outputs": [
    {
     "name": "stdout",
     "output_type": "stream",
     "text": [
      "2.398156283557528\n"
     ]
    }
   ],
   "source": [
    "print(param['t2'] + OS1_O.opt.x[0])"
   ]
  },
  {
   "cell_type": "code",
   "execution_count": 167,
   "id": "ecd00a20",
   "metadata": {},
   "outputs": [],
   "source": [
    "Proj = get_proj_vars(Op, param['P1'], param['P2'], OS1_O.opt.x[0], param['t2'], dim, 1)"
   ]
  },
  {
   "cell_type": "code",
   "execution_count": 168,
   "id": "1aa0aaff",
   "metadata": {},
   "outputs": [
    {
     "name": "stdout",
     "output_type": "stream",
     "text": [
      "0.34721803082061825 0.982642966475236\n"
     ]
    }
   ],
   "source": [
    "print(OS1_O.opt.x[0]/Trot, Proj)"
   ]
  },
  {
   "cell_type": "code",
   "execution_count": 169,
   "id": "5e95cc02",
   "metadata": {},
   "outputs": [
    {
     "data": {
      "text/plain": [
       "{'l0': 0.0, 'l2': 1.0}"
      ]
     },
     "execution_count": 169,
     "metadata": {},
     "output_type": "execute_result"
    }
   ],
   "source": [
    "var.update(t1 = 1.)\n",
    "target.update(Target = 'S2')\n",
    "try:\n",
    "    del lagrange['l1']\n",
    "except:\n",
    "    KeyError\n",
    "lagrange.update(l2 = 1. - l0)\n",
    "lagrange"
   ]
  },
  {
   "cell_type": "code",
   "execution_count": 170,
   "id": "a9b5a3ee",
   "metadata": {},
   "outputs": [
    {
     "name": "stdout",
     "output_type": "stream",
     "text": [
      "S2 True\n",
      "In run_optimization\n",
      "In optimization\n",
      "S2 DP_t1\n"
     ]
    }
   ],
   "source": [
    "OS2_O = optimize_proj(Op, dim, var, param, method, target, lagrange)"
   ]
  },
  {
   "cell_type": "code",
   "execution_count": 171,
   "id": "9ad449a5",
   "metadata": {},
   "outputs": [],
   "source": [
    "Proj = get_proj_vars(Op, param['P1'], param['P2'], OS2_O.opt.x[0], param['t2'], dim, 2)"
   ]
  },
  {
   "cell_type": "code",
   "execution_count": 172,
   "id": "706d79a0",
   "metadata": {},
   "outputs": [
    {
     "name": "stdout",
     "output_type": "stream",
     "text": [
      "0.5972257201705886 0.9826429671924104 1.0176636208542578\n"
     ]
    }
   ],
   "source": [
    "print(OS2_O.opt.x[0]/Trot, Proj, Proj**(-1.))"
   ]
  },
  {
   "cell_type": "code",
   "execution_count": 173,
   "id": "48532cd8",
   "metadata": {},
   "outputs": [],
   "source": [
    "mat = np.zeros((3,3))"
   ]
  },
  {
   "cell_type": "code",
   "execution_count": 174,
   "id": "3bc796f6",
   "metadata": {},
   "outputs": [],
   "source": [
    "mat[0,0] = 1.\n",
    "mat[1,1] = 0.9826716014977619\n",
    "mat[2,2] = 0.9826716021574672"
   ]
  },
  {
   "cell_type": "code",
   "execution_count": 175,
   "id": "2c092681",
   "metadata": {},
   "outputs": [
    {
     "name": "stdout",
     "output_type": "stream",
     "text": [
      "[[1.        0.        0.       ]\n",
      " [0.        0.9826716 0.       ]\n",
      " [0.        0.        0.9826716]]\n"
     ]
    }
   ],
   "source": [
    "print(mat)"
   ]
  },
  {
   "cell_type": "code",
   "execution_count": 176,
   "id": "4358b354",
   "metadata": {},
   "outputs": [],
   "source": [
    "import numpy.linalg as lin"
   ]
  },
  {
   "cell_type": "code",
   "execution_count": 177,
   "id": "47726c63",
   "metadata": {},
   "outputs": [],
   "source": [
    "mat_inv = lin.inv(mat)"
   ]
  },
  {
   "cell_type": "code",
   "execution_count": 178,
   "id": "fcc2ae5d",
   "metadata": {},
   "outputs": [
    {
     "name": "stdout",
     "output_type": "stream",
     "text": [
      "[[1.         0.         0.        ]\n",
      " [0.         1.01763397 0.        ]\n",
      " [0.         0.         1.01763397]]\n"
     ]
    }
   ],
   "source": [
    "print(mat_inv)"
   ]
  },
  {
   "cell_type": "code",
   "execution_count": null,
   "id": "643b9501",
   "metadata": {},
   "outputs": [],
   "source": []
  },
  {
   "cell_type": "code",
   "execution_count": null,
   "id": "6fa9b2cd",
   "metadata": {},
   "outputs": [],
   "source": []
  },
  {
   "cell_type": "code",
   "execution_count": null,
   "id": "ed8d0674",
   "metadata": {},
   "outputs": [],
   "source": []
  }
 ],
 "metadata": {
  "kernelspec": {
   "display_name": "Python 3 (ipykernel)",
   "language": "python",
   "name": "python3"
  },
  "language_info": {
   "codemirror_mode": {
    "name": "ipython",
    "version": 3
   },
   "file_extension": ".py",
   "mimetype": "text/x-python",
   "name": "python",
   "nbconvert_exporter": "python",
   "pygments_lexer": "ipython3",
   "version": "3.10.12"
  }
 },
 "nbformat": 4,
 "nbformat_minor": 5
}
