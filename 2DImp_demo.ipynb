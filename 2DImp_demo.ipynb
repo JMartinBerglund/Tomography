{
 "cells": [
  {
   "cell_type": "markdown",
   "id": "096a640d",
   "metadata": {},
   "source": [
    "# Test of the 2D, impact approximation tomography scheme"
   ]
  },
  {
   "cell_type": "markdown",
   "id": "a40513a7",
   "metadata": {},
   "source": [
    "In this document we will test the tomography scheme in the 2D-impact approximation using Qutip coding "
   ]
  },
  {
   "cell_type": "markdown",
   "id": "5900fc90",
   "metadata": {},
   "source": [
    "But, before making approximations, we start by considering the general problem, that of the time evolution of a density operator. We assume coherent dynamics, but not necessarily coherent initial states.\n",
    "\n",
    "The evolution of the density operator, $\\mathbf{\\rho}$, is \n",
    "\n",
    "\\begin{equation}\n",
    "\\mathbf{\\rho}(0) \\to \\mathbf{\\rho}(t) = \\mathbf{U}(t)\\mathbf{\\rho}(0)\\mathbf{U}^\\dagger(t)\n",
    "\\end{equation}\n",
    "\n",
    "Our goal is to determine the density matrix completely, i.e., we want to measure all of its matrix elements with respect to a given basis, in our case the basis of the free rotational states, $\\left|j,m\\right>$\n",
    "\n",
    "\\begin{equation}\n",
    "\\left<\\theta,\\phi|j,m\\right> = Y_j^m(\\theta, \\phi),\n",
    "\\end{equation}\n",
    "\n",
    "where $Y_j^m(\\theta,\\phi)$ are the spherical harmonics.\n",
    "\n",
    "An experiment is only able to measure populations (diagonal elements of the density matrix) and not the relative phases between the different states making up the density matrix. Therefore, we can only hope to measure the phases indirectly by their influences of the dynamics of the density matrix, and therefore of the final populations. So, if we want to determine the full denity matrix, $\\mathbf{\\rho}(0)$, we let it evolve in time under the influence of a Hamiltonian which can manipulate the elements of the density matrix.\n",
    "\n",
    "The act of measuring a given population, $j$ is given by the inner product of the density matrix and a measurment operator, $\\mathbf{O}_j$, corresponding to measuring the population $j$.\n",
    "\n",
    "\\begin{equation}\n",
    "\\rho_{j,j} = \\left<\\mathbf{\\rho}(t)\\right|\\left. \\mathbf{O}_j\\right>\n",
    "\\end{equation}\n",
    "\n",
    "We define the inner product as the trace of the product between the operators\n",
    "\n",
    "\\begin{equation}\n",
    "\\left<\\mathbf{\\rho}(t)\\right|\\left. \\mathbf{O}_j\\right> = Tr{\\left(\\mathbf{\\rho}(t)\\mathbf{O}_j\\right)}\n",
    "\\end{equation}\n",
    "\n",
    "The inner product is a constant of the motion when the dynamics is coherent."
   ]
  },
  {
   "cell_type": "markdown",
   "id": "a746f3af",
   "metadata": {},
   "source": [
    "## The ERA or RR Hamiltonian for femtosecond laser pulses"
   ]
  },
  {
   "cell_type": "markdown",
   "id": "dc6e99f4",
   "metadata": {},
   "source": [
    "The Hamiltonian describing the interaction with a rotating molecular ion with an off-resonance fs laser \n",
    "pulse is given by\n",
    "\n",
    "\\begin{equation}\n",
    "\\mathbf{H}(t) = B\\mathbf{J}^2 - \\frac{\\Delta \\alpha\\varepsilon^2(t)}{4}\\cos^2{\\mathbf{\\theta}}\n",
    "\\end{equation}\n",
    "\n",
    "where $B$ is the rotational constant, $\\Delta\\alpha$ is the polarizability anisotropy of the molecular ion and \n",
    "$\\varepsilon(t)$ is the electric field of the laser pulse.\n",
    "\n",
    "We consider Gaussian pulses, such that\n",
    "\n",
    "\\begin{equation}\n",
    "\\varepsilon(t) = \\varepsilon_0 e^{-\\frac{(t-t_0)}{2\\sigma^2}}\n",
    "\\end{equation}\n",
    "\n",
    "The pulse intensity is given by\n",
    "\n",
    "\\begin{equation}\n",
    "\\frac{\\varepsilon^2(t)}{4} = \\frac{I(t)}{2\\epsilon_0c}\n",
    "\\end{equation}"
   ]
  },
  {
   "cell_type": "markdown",
   "id": "6eb20d8f",
   "metadata": {},
   "source": [
    "## 2D model"
   ]
  },
  {
   "cell_type": "markdown",
   "id": "34fbf43f",
   "metadata": {},
   "source": [
    "Within the 2D model, the densitymatrix can be written as \n",
    "\n",
    "\\begin{equation}\\label{eq:rhoS}\n",
    " \\rho = \\frac{1}{2}\\sum\\limits_{i=0}^3S_i\\sigma_i\n",
    "\\end{equation}\n",
    "\n",
    "where the $\\sigma_i, \\quad i = 0,1,2,3$ are the Pauli matrices along with the unit $2 \\times 2$ matrix, and \n",
    "\n",
    "\\begin{equation}\n",
    "S_i = Tr{\\left(\\rho\\sigma_i\\right)}\n",
    "\\end{equation}\n",
    "\n",
    "We can expand any operator in the same way that we expanded the densitymatrix in Eq.~\\eqref{eq:rhoS}. \n",
    "\n",
    "States and operators evolve in time. States according to the Schrödinger equation and operators as\n",
    "\n",
    "\\begin{equation}\n",
    "\\mathbf{O}(t) = \\mathbf{U}(t)\\mathbf{O}(0)\\mathbf{U}^\\dagger(t)\n",
    "\\end{equation}\n",
    "\n",
    "\n",
    "Also, the Stokes' paramters $S_i$ satisfy\n",
    "\n",
    "\\begin{equation}\n",
    "S_0^2 = S_1^2 + S_2^2 + S_3^2\n",
    "\\end{equation}\n",
    "\n",
    "We can therefore express the Stokes' parameters as \n",
    "\n",
    "\\begin{equation}\n",
    "S_1 = S_0\\sin{(\\theta)}\\cos{(\\phi)}, \\quad S_2 = S_0\\sin{(\\theta)}\\sin{(\\phi)}, \\quad S_3 = S_0\\cos{(\\theta)}S_3\n",
    "\\end{equation}\n",
    "\n",
    "\n",
    "\n",
    "Within the 2D approximation, we always have $S_0 = 1$, since this corresponds to the trace of the density matrix.\n",
    "\n",
    "#We can expand any operator in the\n",
    "\n",
    "The Hamiltonian that generates the rotational dynamics induced by the interaction with the femtosecond Gaussian laser pulses is \n",
    "\n",
    "\\begin{equation}\n",
    " \\mathbf{H} = B\\mathbf{J}^2 - \\frac{\\Delta \\alpha I_0}{2\\epsilon_0 c}e^{-\\frac{(t - t_0)^2}{2\\sigma_I^2}}\\cos^2{\\theta}\n",
    "\\end{equation}"
   ]
  },
  {
   "cell_type": "markdown",
   "id": "378b5be1",
   "metadata": {},
   "source": [
    "## The impact approximation"
   ]
  },
  {
   "cell_type": "markdown",
   "id": "aa21deb9",
   "metadata": {},
   "source": [
    "Within the impact approximation, we assume that the duration of the pulses are much shorter than the rotational time scale set by the rotational constant $t_{FWHM} \\ll T_{rot} \\sim \\frac{1}{B}$. We take the pulses to be dirac deltas at the center of the pulses. The strength of the pulse is the fluence P.\n",
    "\n",
    "\\begin{equation}\n",
    "P = \\frac{\\Delta\\alpha}{4}\\int\\limits_{-\\infty}^\\infty \\varepsilon^2(t) \\,dt\n",
    "\\end{equation}\n",
    "\n",
    "The pulse Hamiltonian takes the form\n",
    "\n",
    "\\begin{equation}\n",
    "\\mathbf{H}_p = -PC^2,\n",
    "\\end{equation}\n",
    "\n",
    "where $C^2$ is the matrix representation of the $\\cos^2{\\theta}$-operator in the $\\left| j,m \\right>$-basis. In the minimal basis, $\\left|j=0\\right>$ and $\\left|j=2\\right>$, the Hamiltonian becomes\n",
    "\n",
    "\\begin{equation}\n",
    "\\mathbf{H}_p = -P\n",
    "\\begin{pmatrix}\n",
    "\\frac{1}{3} & \\frac{2}{3\\sqrt{5}}\\\\\n",
    "\\frac{2}{3\\sqrt{5}} & \\frac{11}{21}\n",
    "\\end{pmatrix} = -P\n",
    "\\begin{pmatrix}\n",
    "a & b \\\\\n",
    "b & d\n",
    "\\end{pmatrix}\n",
    "\\end{equation}\n",
    "\n",
    "Within this approximation, we can separate the free evolution from the evolution due to the pulse.\n",
    "The free evoltion is\n",
    "\n",
    "\\begin{equation}\n",
    "U_{free}(t) = \n",
    "\\begin{pmatrix}\n",
    "1 & 0 \\\\\n",
    "0 & e^{-i6Bt}\n",
    "\\end{pmatrix}\n",
    "\\end{equation}\n",
    "\n",
    "The total time evolution operator is given by\n",
    "\n",
    "\\begin{equation}\n",
    "\\mathbf{U}(P,t) = \\mathbf{U}_p(P)\\mathbf{U}_{free}(t) = \\frac{1}{n_+^2}\n",
    "\\begin{pmatrix}\n",
    "a_+^2e^{i\\lambda_-} + b^2e^{i\\lambda_+} & a_xb\\left(e^{i\\lambda_-} - e^{i\\lambda_+}\\right) \\\\\n",
    "a_xb\\left(e^{i\\lambda_-} - e^{i\\lambda_+}\\right) & b^2e^{i\\lambda_-} + a_x^2e^{i\\lambda_+}\n",
    "\\end{pmatrix}\n",
    "\\begin{pmatrix}\n",
    "1 & 0 \\\\\n",
    "0 & e^{-i6Bt}\n",
    "\\end{pmatrix}\n",
    "\\end{equation}"
   ]
  },
  {
   "cell_type": "markdown",
   "id": "0433e0c3",
   "metadata": {},
   "source": [
    "## The pulse evolution operator"
   ]
  },
  {
   "cell_type": "markdown",
   "id": "35dc8d60",
   "metadata": {},
   "source": [
    "Within this approximation, we can separate the free evolution from the evolution due to the pulse.\n",
    "\n",
    "The pulse Hamiltonian takes the form\n",
    "\n",
    "\\begin{equation}\n",
    "\\mathbf{H}_p = -PC^2,\n",
    "\\end{equation}\n",
    "\n",
    "where $C^2$ is the matrix representation of the $\\cos^2{\\theta}$-operator in the $\\left| j,m \\right>$-basis. In the minimal basis, $\\left|j=0\\right>$ and $\\left|j=2\\right>$, the Hamiltonian becomes\n",
    "\n",
    "\\begin{equation}\n",
    "\\mathbf{H}_p = -P\n",
    "\\begin{pmatrix}\n",
    "\\frac{1}{3} & \\frac{2}{3\\sqrt{5}}\\\\\n",
    "\\frac{2}{3\\sqrt{5}} & \\frac{11}{21}\n",
    "\\end{pmatrix} = -P\n",
    "\\begin{pmatrix}\n",
    "a & b \\\\\n",
    "b & d\n",
    "\\end{pmatrix}\n",
    "\\end{equation}\n",
    "\n",
    "The Hamiltonian can be written as a decomposition \n",
    "\n",
    "\\begin{equation}\n",
    "\\mathbf{H}_p = \\mathbf{V}\\mathbf{L}\\mathbf{V}^{-1}.\n",
    "\\end{equation}\n",
    "\n",
    "Here, $\\mathbf{L}$ is a diagonal matrix with the eigenvalues, $\\lambda_{\\pm}$ of $\\mathbf{H}_p$ on the diagonal,\n",
    "\n",
    "\\begin{equation}\n",
    "\\mathbf{L} = \n",
    "\\begin{pmatrix}\n",
    "\\lambda_- & 0 \\\\\n",
    "0   &  \\lambda_+\n",
    "\\end{pmatrix},\n",
    "\\end{equation}\n",
    "\n",
    "with $\\lambda_{\\pm} = -\\frac{P}{2}\\left( (a+d) \\pm \\sqrt{(a-d)^2 + 4b^2}\\right) = -\\frac{P}{2}\\nu_{\\pm} $\n",
    "\n",
    "and $\\mathbf{V}$ is the matrix of the eigenvelctors of $\\mathbf{H}_p$\n",
    "\n",
    "\\begin{equation}\n",
    " \\mathbf{V} = \n",
    " \\begin{pmatrix}\n",
    " \\vec{v}_- & \\vec{v}_+\n",
    " \\end{pmatrix} = \\frac{1}{n_+}\n",
    " \\begin{pmatrix}\n",
    " a_+ & -b \\\\\n",
    " b & a_+\n",
    " \\end{pmatrix},\n",
    "\\end{equation}\n",
    "\n",
    "with $a_+ = a - \\nu_+$ and $n_+ = \\sqrt{a_+^2 + b^2}$. The pulse propgagation operator, $\\mathbf{U}_p = e^{-i\\mathbf{H}_p}$ is then\n",
    "\n",
    "\\begin{equation}\n",
    " \\mathbf{U}_p = \\mathbf{V}\n",
    " \\begin{pmatrix}\n",
    " e^{i\\lambda_-} & 0 \\\\\n",
    " 0 & e^{i\\lambda_+}\n",
    " \\end{pmatrix}\n",
    " \\mathbf{V}^{-1} = \\frac{1}{n_+^2}\n",
    " \\begin{pmatrix}\n",
    " a_+^2e^{i\\lambda_-} + b^2e^{i\\lambda_+} & a_xb\\left(e^{i\\lambda_-} - e^{i\\lambda_+}\\right) \\\\\n",
    "a_xb\\left(e^{i\\lambda_-} - e^{i\\lambda_+}\\right) & b^2e^{i\\lambda_-} + a_x^2e^{i\\lambda_+}\n",
    " \\end{pmatrix}\n",
    "\\end{equation}\n",
    "\n",
    "The free evoltion is\n",
    "\n",
    "\\begin{equation}\n",
    "U_{free}(t) = \n",
    "\\begin{pmatrix}\n",
    "1 & 0 \\\\\n",
    "0 & e^{-i6Bt}\n",
    "\\end{pmatrix}\n",
    "\\end{equation}\n",
    "\n",
    "The total time evolution operator is given by\n",
    "\n",
    "\\begin{equation}\n",
    "\\mathbf{U}(P,t) = \\mathbf{U}_p(P)\\mathbf{U}_{free}(t) = \\frac{1}{n_+^2}\n",
    "\\begin{pmatrix}\n",
    "a_+^2e^{i\\lambda_-} + b^2e^{i\\lambda_+} & a_xb\\left(e^{i\\lambda_-} - e^{i\\lambda_+}\\right) \\\\\n",
    "a_xb\\left(e^{i\\lambda_-} - e^{i\\lambda_+}\\right) & b^2e^{i\\lambda_-} + a_x^2e^{i\\lambda_+}\n",
    "\\end{pmatrix}\n",
    "\\begin{pmatrix}\n",
    "1 & 0 \\\\\n",
    "0 & e^{-i6Bt}\n",
    "\\end{pmatrix}\n",
    "\\end{equation}"
   ]
  },
  {
   "cell_type": "markdown",
   "id": "c0318f50",
   "metadata": {},
   "source": [
    "## Calculations"
   ]
  },
  {
   "cell_type": "markdown",
   "id": "4a22de81",
   "metadata": {},
   "source": [
    "We start by importing the neccessary libraries"
   ]
  },
  {
   "cell_type": "code",
   "execution_count": 2,
   "id": "02e012eb",
   "metadata": {},
   "outputs": [],
   "source": [
    "import os\n",
    "import sys\n",
    "sys.path.append(\"/home/martin/Work/Qutip/modules\")\n",
    "import numpy as np\n",
    "import math, cmath\n",
    "import numpy.linalg as lin\n",
    "import qutip\n",
    "import Tomomod as Tm\n",
    "import Utility as Ut\n",
    "import parameters as pa\n",
    "import matplotlib.pyplot as plt\n",
    "from IPython.display import Image\n",
    "%matplotlib inline"
   ]
  },
  {
   "cell_type": "markdown",
   "id": "f718018f",
   "metadata": {},
   "source": [
    "Many of these methods are already implemented in MolRot $\\rightarrow$ they can be remonved from here!!"
   ]
  },
  {
   "cell_type": "code",
   "execution_count": 3,
   "id": "91f22349",
   "metadata": {},
   "outputs": [],
   "source": [
    "# The Pauli matrices (and the identity)\n",
    "def Pauli(i):\n",
    "    \n",
    "    try:\n",
    "        if i == 0:\n",
    "            Pop = qutip.qeye(2)\n",
    "            return Pop\n",
    "    \n",
    "        elif i == 1:\n",
    "            Pop = qutip.sigmax()\n",
    "            return Pop\n",
    "        \n",
    "        elif i == 2:\n",
    "            Pop = qutip.sigmay()\n",
    "            return Pop\n",
    "        \n",
    "        elif i == 3:\n",
    "            Pop = qutip.sigmaz()  \n",
    "        return Pop\n",
    "    \n",
    "    except i != 0 or i != 1 or i != 2 or i != 3:\n",
    "            print(\"Index i \", i, \"out of range 0,1,2,3\")\n",
    "            \n",
    "            \n",
    "# The impulse Hamiltonian\n",
    "def amatrix(P):\n",
    "    a = 1./3.\n",
    "    b = 2./(3.*math.sqrt(5.))\n",
    "    d = 11./21.\n",
    "    amat = np.zeros((2,2))\n",
    "    amat[0,0] = a\n",
    "    amat[0,1] = b\n",
    "    amat[1,0] = b\n",
    "    amat[1,1] = d\n",
    "    amat = -P * amat\n",
    "    \n",
    "    am = qutip.Qobj(amat)\n",
    "    \n",
    "    return am\n",
    "    \n",
    "# The -i * Hamiltonian\n",
    "def miH(P):\n",
    "    a = 1./3.\n",
    "    b = 2./(3.*math.sqrt(5.))\n",
    "    d = 11./21.\n",
    "    amat = np.zeros((2,2))\n",
    "    amat[0,0] = a\n",
    "    amat[0,1] = b\n",
    "    amat[1,0] = b\n",
    "    amat[1,1] = d\n",
    "    amat = 1.j*P * amat\n",
    "    \n",
    "    am = qutip.Qobj(amat)\n",
    "    \n",
    "    return am\n",
    "\n",
    "# The Pulse evolution operator\n",
    "def UP(P):\n",
    "    print(miH(P))\n",
    "    \n",
    "    return miH(P).expm()\n",
    "\n",
    "def Ufree(B,t):\n",
    "    \n",
    "    mat = np.eye(2, dtype='complex')\n",
    "    mat[1,1] = cmath.exp(-6.j*B*t)\n",
    "    \n",
    "    Uf = qutip.Qobj(mat)\n",
    "    \n",
    "    return Uf\n",
    "\n",
    "# Composition of two evolution operators\n",
    "def U2U1(U2, U1):\n",
    "    \n",
    "    return U2*U1\n",
    "\n",
    "# Forward evolution \n",
    "# input ket\n",
    "def UFW(U,x):\n",
    "    \n",
    "    return U*x.dag()*x*U.dag()\n",
    "\n",
    "# Forward evolution\n",
    "# input operator\n",
    "def UFWO(U,O):\n",
    "    \n",
    "    return U*O*U.dag()\n",
    "\n",
    "# Backward evolution\n",
    "# input ket\n",
    "def UBW(U,x):\n",
    "\n",
    "    return U.dag()*x.dag()*x*U\n",
    "\n",
    "# Backward evolution\n",
    "# input operator\n",
    "def UBWO(U,O):\n",
    "    \n",
    "    return U.dag()*O*U\n",
    "\n",
    "def Proj(O1, O2):\n",
    "    O = O1*O2\n",
    "    \n",
    "    return O.tr()"
   ]
  },
  {
   "cell_type": "code",
   "execution_count": 4,
   "id": "b92b787b",
   "metadata": {},
   "outputs": [],
   "source": [
    "# Test the Pauli\n",
    "Paulis = []\n",
    "for i in range(4):\n",
    "    P = Pauli(i)\n",
    "    Paulis.append(P)\n",
    "    \n",
    "#print(Paulis)\n",
    "    "
   ]
  },
  {
   "cell_type": "markdown",
   "id": "14867f09",
   "metadata": {},
   "source": [
    "## Calculations of $\\cos{\\phi^*}$ and $\\sin{\\phi^*}$ \n",
    "When we apply a pulse with the right fluence $P=P^*$, we propagate $\\sigma_3 \\to \\cos{\\phi^*}\\sigma_1 + \\sin{\\phi^*}\\sigma_2$, i.e., $\\sigma_3$ has no longer any projection onto itself. We are interested in determining the projections onlo $\\sigma_{1,2}$, i.e., we want to deterimine $\\phi^*$."
   ]
  },
  {
   "cell_type": "code",
   "execution_count": 93,
   "id": "df1d1415",
   "metadata": {},
   "outputs": [
    {
     "name": "stdout",
     "output_type": "stream",
     "text": [
      "-0.10204081632653063 95.85670190991829 0.9947802128125666 95.85670190991829\n",
      "-0.3194382824999701 1.8959329801220874 108.62895800065621\n",
      "-0.947607082958686 -1.245659673467707 -71.37104199934386 108.62895800065614\n",
      "2.9664793948382653 1.245659673467706 71.3710419993438\n"
     ]
    }
   ],
   "source": [
    "# Need parameters\n",
    "# Paramters of the cos^2(theta) matrix\n",
    "a = 1./3.\n",
    "b = 2./(3.*math.sqrt(5.))\n",
    "d = 11./21.\n",
    "\n",
    "# Related to eigenvalues 0f the cos^2(theta) matrix\n",
    "ap = a - 0.5*(a+d + math.sqrt((a-d)**2. + 4.*b**2.))\n",
    "npl = math.sqrt(ap**2.+b**2.)\n",
    "\n",
    "# Critical values at P^*\n",
    "cDO = -((ap**2. - b**2.)/(2.*ap*b))**2.\n",
    "sDO = math.sqrt(1. - cDO**2.)\n",
    "print(cDO, 180./math.pi*math.acos(cDO), sDO, 180. - 180./math.pi*math.asin(sDO))\n",
    "#cphis = 2.*ap*b * (ap**2. - b**2.) * (1. + ((ap**2. - b**2.)/(2.*ap*b))**2.) / npl**4.\n",
    "cphis = 2.*ap*b * (ap**2. - b**2.) * (1. - cDO )/ npl**4.\n",
    "sphis = 2.*ap*b * (ap**2. + b**2.) * sDO / npl**4.\n",
    "phis = math.acos(cphis)\n",
    "phis_deg = 180./math.pi * phis\n",
    "phis_s = math.asin(sphis)\n",
    "phis_s_deg = 180./math.pi*phis_s\n",
    "print(cphis, phis, phis_deg)\n",
    "print(sphis, phis_s, phis_s_deg, 180. + phis_s_deg)\n",
    "tphis = sphis/cphis\n",
    "phis_t = math.atan(tphis)\n",
    "phis_t_deg = 180./math.pi * phis_t\n",
    "print(tphis, phis_t, phis_t_deg)"
   ]
  },
  {
   "cell_type": "markdown",
   "id": "94a1b40a",
   "metadata": {},
   "source": [
    "Once we have found the value for $\\phi^*$, we want to find the times $T_1$ and $T_2$ for which $\\sigma_3 \\to \\sigma_1$ and $\\sigma_3 \\to \\sigma_2$, respectively"
   ]
  },
  {
   "cell_type": "code",
   "execution_count": 97,
   "id": "30942092",
   "metadata": {},
   "outputs": [
    {
     "name": "stdout",
     "output_type": "stream",
     "text": [
      "0 1.0\n",
      "1 0.0\n",
      "2 1.0\n",
      "3 2.220446049250313e-16\n"
     ]
    }
   ],
   "source": [
    "# Define parameters\n",
    "B = 1.\n",
    "PS3 = 0.\n",
    "PS12 = 2.67267834\n",
    "alpha = math.sqrt(0.5)\n",
    "phi = 0.5*math.pi\n",
    "beta = math.sqrt(1. - alpha**2.) * cmath.exp(1.j*phi)\n",
    "x0 = qutip.Qobj([[alpha],[beta]])\n",
    "O0 = qutip.Qobj([[1., 0.],[0., 0.]])\n",
    "phi_s = 4.387253008790036 # (251.3710810597409 deg)\n",
    "phi_s = -1.8959329801220874\n",
    "n = 0\n",
    "T1 = n*math.pi/(3.*B) - phi_s /(6.*B)\n",
    "T2 = n*math.pi/(3.*B) + (0.5*math.pi - phi_s) / (6.*B) \n",
    "\n",
    "# Print the original Stokes' paramters\n",
    "for i in range(4):\n",
    "    print(i, Proj(x0*x0.dag(),Pauli(i)))"
   ]
  },
  {
   "cell_type": "markdown",
   "id": "a21564a3",
   "metadata": {},
   "source": [
    "## We now calculate the tomography evolution operators"
   ]
  },
  {
   "cell_type": "markdown",
   "id": "dfc2e3ae",
   "metadata": {},
   "source": [
    "We start with the operator which measures $S_3$. This corresponds to $\\sigma_3 \\to \\sigma_3$, i.e., we apply no pulse."
   ]
  },
  {
   "cell_type": "code",
   "execution_count": 95,
   "id": "06ed2f16",
   "metadata": {},
   "outputs": [
    {
     "name": "stdout",
     "output_type": "stream",
     "text": [
      "0 1.0\n",
      "1 0.0\n",
      "2 1.0\n",
      "3 2.220446049250313e-16\n"
     ]
    }
   ],
   "source": [
    "# The S3 BW evolution operator\n",
    "#US3 = UP(PS3)\n",
    "US3 = Ut.UI(PS3, 2)\n",
    "\n",
    "# Propagate O0 BW\n",
    "O0_BW = Ut.UBW(US3, x0)\n",
    "# Projections on Paulis\n",
    "for i in range(4):\n",
    "    print(i, Proj(O0_BW,Pauli(i)))\n",
    "    \n",
    "# Check unitarity\n",
    "#print(US3*US3.dag())"
   ]
  },
  {
   "cell_type": "markdown",
   "id": "d550cd55",
   "metadata": {},
   "source": [
    "We now determine the dynamics under which 1) $\\sigma_3 \\to \\sigma_1$, 2) $\\sigma_3 \\to \\sigma_2$.\n",
    "\n",
    "In both cases the pulse operator is given by $\\mathbf{U}_p(P^*)$. So under the backwards propagation of the pulse\n",
    "$\\sigma_3 \\to \\mathbf{U}^\\dagger_p(P^*)\\sigma_3\\mathbf{U}_p(P^*) = \\cos{\\left(\\phi^*\\right)}\\sigma_1 + \\sin{\\left(\\phi^*\\right)}\\sigma_2$."
   ]
  },
  {
   "cell_type": "code",
   "execution_count": 105,
   "id": "b1513bf5",
   "metadata": {},
   "outputs": [
    {
     "name": "stdout",
     "output_type": "stream",
     "text": [
      "Quantum object: dims = [[2], [2]], shape = (2, 2), type = oper, isherm = False\n",
      "Qobj data =\n",
      "[[0.+0.89089278j 0.+0.79683873j]\n",
      " [0.+0.79683873j 0.+1.39997437j]]\n",
      "0 1.0\n",
      "1 -0.3194376364846617\n",
      "2 -0.9476073007279985\n",
      "3 2.022347801222679e-06\n",
      "\n",
      "0 1.0\n",
      "1 0.9999999999977227\n",
      "2 6.81732536977897e-07\n",
      "3 2.022347801222679e-06\n",
      "\n",
      "0 1.0\n",
      "1 -6.81732537310964e-07\n",
      "2 0.9999999999977227\n",
      "3 2.022347801111657e-06\n",
      "\n"
     ]
    }
   ],
   "source": [
    "# The S1,2 impulse part of the evolution operator\n",
    "#Hs12 = amatrix(-1.j*PS12)\n",
    "#Us12 = Hs12.expm()\n",
    "US12 = UP(PS12)\n",
    "US12 = Ut.UI(PS12, 2)\n",
    "#US12.full()\n",
    "# Propagate O0 BW\n",
    "O0_BW = Ut.UBWO(US12, O0)\n",
    "# Projections on Paulis\n",
    "for i in range(4):\n",
    "    print(i, Proj(O0_BW,Pauli(i)))\n",
    "print()   \n",
    "# Check unitarity\n",
    "#print(US12*US12.dag())\n",
    "\n",
    "# Phi_Star ?\n",
    "#print(math.pi + math.atan(Proj(O0_BW,Pauli(2))/Proj(O0_BW,Pauli(1))))\n",
    "#print(180. + 180./math.pi * math.atan(Proj(O0_BW,Pauli(2))/Proj(O0_BW,Pauli(1))))\n",
    "\n",
    "# Creating the S1 and S2 evolution operators\n",
    "Uf1 = Ufree(B, T1)\n",
    "Uf2 = Ufree(B, T2)\n",
    "US1 = U2U1(US12, Uf1)\n",
    "US2 = U2U1(US12, Uf2)\n",
    "\n",
    "# First S1\n",
    "# Propagate O0 BW\n",
    "O0_BW = Ut.UBWO(US1, O0)\n",
    "# Projections on Paulis\n",
    "for i in range(4):\n",
    "    print(i, Proj(O0_BW,Pauli(i)))\n",
    "print()\n",
    "\n",
    "# Then S2\n",
    "# Propagate O0 BW\n",
    "O0_BW = Ut.UBWO(US2, O0)\n",
    "# Projections on Paulis\n",
    "for i in range(4):\n",
    "    print(i, Proj(O0_BW,Pauli(i)))\n",
    "print()\n",
    "    "
   ]
  },
  {
   "cell_type": "markdown",
   "id": "10bdfb6d",
   "metadata": {},
   "source": [
    "Propagate the initial state forwards and measure the population. Extract $S_3$"
   ]
  },
  {
   "cell_type": "code",
   "execution_count": 107,
   "id": "7e867920",
   "metadata": {},
   "outputs": [
    {
     "name": "stdout",
     "output_type": "stream",
     "text": [
      "0.5000003408662685 6.817325370889193e-07\n",
      "0.9999999999988615 0.9999999999977229\n",
      "0.5000000000000001 2.220446049250313e-16\n",
      "\n",
      "1 0.0\n",
      "2 1.0\n",
      "3 2.220446049250313e-16\n",
      "\n"
     ]
    },
    {
     "data": {
      "text/plain": [
       "array([[0.5+0.j , 0. -0.5j],\n",
       "       [0. +0.5j, 0.5+0.j ]])"
      ]
     },
     "execution_count": 107,
     "metadata": {},
     "output_type": "execute_result"
    }
   ],
   "source": [
    "# The measurment operator for the ground state population\n",
    "O_0 = qutip.Qobj(0.5*(Pauli(0) + Pauli(3)))\n",
    "#O_0.full()\n",
    "\n",
    "#Propagate the ground state under US1\n",
    "#print(x0)\n",
    "rhoS3 = Ut.UFW(US1,x0)\n",
    "\n",
    "# Measure ground state population and S3\n",
    "rhoS3_00 = Ut.Proj(rhoS3,O_0)\n",
    "S31 = 2.*rhoS3_00 - 1.\n",
    "print(rhoS3_00, S31)\n",
    "\n",
    "#Propagate the ground state under US2\n",
    "rhoS3 = Ut.UFW(US2,x0)\n",
    "\n",
    "# Measure ground state population and S3\n",
    "rhoS3_00 = Ut.Proj(rhoS3,O_0)\n",
    "S32 = 2.*rhoS3_00 - 1.\n",
    "print(rhoS3_00, S32)\n",
    "\n",
    "#Propagate the ground state under US3\n",
    "rhoS3 = Ut.UFW(US3,x0)\n",
    "\n",
    "# Measure ground state population and S3\n",
    "rhoS3_00 = Ut.Proj(rhoS3,O_0)\n",
    "S33 = 2.*rhoS3_00 - 1.\n",
    "print(rhoS3_00, S33)\n",
    "print()\n",
    "# The true Stokes' parameters\n",
    "rho0 = qutip.ket2dm(x0)\n",
    "# Projections on Paulis\n",
    "for i in range(3):\n",
    "    print(i+1, Proj(rho0,Pauli(i+1)))\n",
    "print()\n",
    "rho0.full()\n"
   ]
  },
  {
   "cell_type": "markdown",
   "id": "2158688e",
   "metadata": {},
   "source": [
    "# Backwards propagation under the pulse"
   ]
  },
  {
   "cell_type": "code",
   "execution_count": 34,
   "id": "8c7ad518",
   "metadata": {},
   "outputs": [
    {
     "data": {
      "text/plain": [
       "array([[ 0.48224985+0.51714224j, -0.64409521+0.29178819j],\n",
       "       [-0.64409521+0.29178819j,  0.07075251+0.70355888j]])"
      ]
     },
     "execution_count": 34,
     "metadata": {},
     "output_type": "execute_result"
    }
   ],
   "source": [
    "# Defining the pulse evolution operator\n",
    "P = 1.\n",
    "Pstar = 2.67267834\n",
    "Up = Ut.UI(Pstar,2)\n",
    "Up.full()\n",
    "\n"
   ]
  },
  {
   "cell_type": "code",
   "execution_count": 35,
   "id": "115e1f7c",
   "metadata": {},
   "outputs": [],
   "source": [
    "# Defining the measurment operator\n",
    "O0 = 0.5*(Pauli(0) + Pauli(3))"
   ]
  },
  {
   "cell_type": "code",
   "execution_count": null,
   "id": "cc7522e3",
   "metadata": {},
   "outputs": [],
   "source": []
  },
  {
   "cell_type": "code",
   "execution_count": 36,
   "id": "7b61ccab",
   "metadata": {},
   "outputs": [],
   "source": [
    "t0 = 0.\n",
    "dt = 0.01\n",
    "nt = 300\n",
    "B = 1.\n",
    "Trot = (6.*B)**(-1.)\n",
    "times = np.zeros(nt)\n",
    "S0 = np.zeros(nt)\n",
    "S1 = np.zeros(nt)\n",
    "S2 = np.zeros(nt)\n",
    "S3 = np.zeros(nt)\n",
    "Shold = np.zeros(4)\n",
    "for i in range(nt):\n",
    "    t = t0 + float(i)*dt\n",
    "    times[i] = t#/Trot\n",
    "    Uft = Ut.Uf(B,t,2)\n",
    "    Ufull = U2U1(Up,Uft)\n",
    "    OBW = Ut.UBWO(Ufull, O0)\n",
    "    for j in range(4):\n",
    "        Shold[j] = Proj(OBW, Pauli(j))\n",
    "    S0[i] = Shold[0]\n",
    "    S1[i] = Shold[1]\n",
    "    S2[i] = Shold[2]\n",
    "    S3[i] = Shold[3]"
   ]
  },
  {
   "cell_type": "code",
   "execution_count": 37,
   "id": "c5204dab",
   "metadata": {},
   "outputs": [],
   "source": [
    "with open('Data/UBw2D.dat', 'w') as f:\n",
    "    for j in range(nt):\n",
    "        f.write('{:24.15e} {:24.15e} {:24.15e}\\n'.format(times[j], S1[j], S2[j]))"
   ]
  },
  {
   "cell_type": "code",
   "execution_count": 38,
   "id": "357a8152",
   "metadata": {},
   "outputs": [
    {
     "data": {
      "image/png": "[encoded data removed]",
      "text/plain": [
       "<Figure size 432x288 with 1 Axes>"
      ]
     },
     "metadata": {
      "needs_background": "light"
     },
     "output_type": "display_data"
    }
   ],
   "source": [
    "fig, ax = plt.subplots()\n",
    "ax.plot(times, S0, times, S1, times, S2, times, S3)\n",
    "ax.set_xlabel('t ($T_{rot}$)')\n",
    "ax.set_ylabel('Proj(Pauli)')\n",
    "plt.show()\n",
    "#plt.savefig('ProjPstar2D', format='png')"
   ]
  },
  {
   "cell_type": "code",
   "execution_count": 39,
   "id": "7143b52c",
   "metadata": {},
   "outputs": [
    {
     "data": {
      "text/plain": [
       "array([[1.        +0.j       , 0.        +0.j       ],\n",
       "       [0.        +0.j       , 0.96017029+0.2794155j]])"
      ]
     },
     "execution_count": 39,
     "metadata": {},
     "output_type": "execute_result"
    }
   ],
   "source": [
    "Ufcomp = Ut.Uf(1.,1.,2)\n",
    "Ufcomp.full()"
   ]
  },
  {
   "cell_type": "code",
   "execution_count": 40,
   "id": "49d8ee30",
   "metadata": {},
   "outputs": [
    {
     "name": "stdout",
     "output_type": "stream",
     "text": [
      "(0.960170286650366+0.27941549819892586j)\n"
     ]
    }
   ],
   "source": [
    "print(cmath.exp(-1.j*6.))"
   ]
  },
  {
   "cell_type": "code",
   "execution_count": null,
   "id": "48f769eb",
   "metadata": {},
   "outputs": [],
   "source": []
  },
  {
   "cell_type": "code",
   "execution_count": null,
   "id": "06ff2702",
   "metadata": {},
   "outputs": [],
   "source": []
  },
  {
   "cell_type": "markdown",
   "id": "6bead204",
   "metadata": {},
   "source": [
    "# Perfomance of the impact approximation in 2D"
   ]
  },
  {
   "cell_type": "markdown",
   "id": "e10fa030",
   "metadata": {},
   "source": [
    "We now relax the impact approximation and run a 2D comparison to see how well it performes for various realistic pulse durations ($25, 50, 75, 100, 150$ fs) and intensities $I_0$."
   ]
  },
  {
   "cell_type": "markdown",
   "id": "bb24a6c1",
   "metadata": {},
   "source": [
    "We need to define the individual Hamiltonians"
   ]
  },
  {
   "cell_type": "code",
   "execution_count": 63,
   "id": "56994cba",
   "metadata": {},
   "outputs": [],
   "source": [
    "# Parameters\n",
    "eps0 = (4.*math.pi)**(-1.) # vacuum permittivitiy (atomic units)\n",
    "c    = 137.03599  # speed of light (atomic units)\n",
    "fs2au = 41.341373 # converting femtoseconds to atomic time\n",
    "\n",
    "# The free Hamiltonian\n",
    "def H0(B):\n",
    "    H = qutip.Qobj([[0.,0.],[0.,6.*B]])\n",
    "    return H\n",
    "\n",
    "# The static part of the interaction Hamiltonian\n",
    "def H1(Da):\n",
    "    H1 = qutip.Qobj([[1./3., 2./(3.*math.sqrt(5.))],[2./(3.*math.sqrt(5.)),11./21.]])\n",
    "    return -0.25*Da*H1 \n",
    "\n",
    "# The static part of the interaction Hamiltonian when using the intensity rather than the electric field\n",
    "def H1_I0(Da):\n",
    "    H = qutip.Qobj([[1./3., 2./(3.*math.sqrt(5.))],[2./(3.*math.sqrt(5.)),11./21.]])\n",
    "    return -Da / (2.*eps0*c) * H \n",
    "\n",
    "# The Gaussian pulse\n",
    "def Gauss(t,t0,I0,s):\n",
    "    pulse = I0*math.exp(-(t-t0)**2./(2.*s**2.))\n",
    "    return pulse\n",
    "\n",
    "# The Gaussian pulse for mesolver\n",
    "def Gauss_me(t, args):\n",
    "    return args['I0'] * math.exp(-(t-args['t0'])**2./(2.*args['sigma']**2.))\n",
    "\n",
    "# Get the intensity from fluence and sigma\n",
    "def getI0(P,sigma, deltaalpha):\n",
    "    I0 = 2.*eps0*c * P / (math.sqrt(2.*math.pi) * deltaalpha * sigma)\n",
    "    return I0\n",
    "\n",
    "# Get P from I0 and sigma\n",
    "def getP(deltaalpha,I0,sigma):\n",
    "    P = math.sqrt(2.*math.pi) * deltaalpha/(2.*eps0*c) * I0 * sigma\n",
    "    return P\n",
    "\n",
    "# Get P from integration\n",
    "def getP_int(Da, I0, t0, sigma):\n",
    "    from scipy.integrate import quad\n",
    "    intI, tol = quad(Gauss, -np.inf,np.inf,args=(t0, I0, sigma))\n",
    "    return Da / (2.*eps0*c) * intI\n",
    "\n",
    "# Obtain \\sigma_I (in atomic units) from T_FWHM (fs)\n",
    "def sigmaFromFWHM(FWHM):\n",
    "    FWHM_au = FWHM * fs2au\n",
    "    sigma_I = FWHM_au / math.sqrt(8.*math.log(2.))\n",
    "    return sigma_I\n"
   ]
  },
  {
   "cell_type": "code",
   "execution_count": 64,
   "id": "b59146bf",
   "metadata": {},
   "outputs": [],
   "source": [
    "# propagator([H0, [H1, Gauss], dt, Backwards=True]) # For tomography, Backwards=False for population measurments"
   ]
  },
  {
   "cell_type": "code",
   "execution_count": 65,
   "id": "03cd7c42",
   "metadata": {},
   "outputs": [],
   "source": [
    "# Checking the methods\n",
    "t0 = 0.\n",
    "I0 = 1.\n",
    "sigma = 1.\n",
    "deltaalpha = 1.\n",
    "B = 2.88*10**(-5.)\n",
    "time = np.arange(-10.,10.,0.1)\n",
    "gauss = np.zeros(len(time))\n",
    "for i in range(len(time)):\n",
    "    t = time[i]\n",
    "    gauss[i] = Gauss(time[i], t0, I0, sigma)"
   ]
  },
  {
   "cell_type": "code",
   "execution_count": 66,
   "id": "d1eb978f",
   "metadata": {},
   "outputs": [
    {
     "data": {
      "image/png": "[encoded data removed]",
      "text/plain": [
       "<Figure size 432x288 with 1 Axes>"
      ]
     },
     "metadata": {
      "needs_background": "light"
     },
     "output_type": "display_data"
    }
   ],
   "source": [
    "# Plotting the gaussian\n",
    "import matplotlib.pyplot as plt\n",
    "\n",
    "fig, ax = plt.subplots()\n",
    "ax.plot(time, gauss)\n",
    "plt.show()"
   ]
  },
  {
   "cell_type": "code",
   "execution_count": 67,
   "id": "edf8a6d3",
   "metadata": {},
   "outputs": [
    {
     "data": {
      "text/plain": [
       "array([[0.       +0.j, 0.       +0.j],\n",
       "       [0.       +0.j, 0.0001728+0.j]])"
      ]
     },
     "execution_count": 67,
     "metadata": {},
     "output_type": "execute_result"
    }
   ],
   "source": [
    "H0 = H0(B)\n",
    "H0.full()"
   ]
  },
  {
   "cell_type": "code",
   "execution_count": 68,
   "id": "37e41f33",
   "metadata": {},
   "outputs": [
    {
     "name": "stdout",
     "output_type": "stream",
     "text": [
      "0.11493046422127805\n"
     ]
    }
   ],
   "source": [
    "# Fluence\n",
    "print(getP(deltaalpha,I0,sigma))"
   ]
  },
  {
   "cell_type": "code",
   "execution_count": 90,
   "id": "7476ce62",
   "metadata": {},
   "outputs": [
    {
     "name": "stdout",
     "output_type": "stream",
     "text": [
      "100.0 (fs)\n",
      "1755.606467136925 (au)\n"
     ]
    }
   ],
   "source": [
    "# Get sigma from FWHM\n",
    "FWHM = 100. # in femtoseconds\n",
    "print(FWHM, '(fs)')\n",
    "sigma = sigmaFromFWHM(FWHM) # in atomic units\n",
    "print(sigma, '(au)')"
   ]
  },
  {
   "cell_type": "code",
   "execution_count": 91,
   "id": "8aaf6c85",
   "metadata": {},
   "outputs": [
    {
     "name": "stdout",
     "output_type": "stream",
     "text": [
      "Trot: 5787.0370370370365 (au)\n"
     ]
    }
   ],
   "source": [
    "print('Trot:',(6.*B)**(-1.),'(au)')"
   ]
  },
  {
   "cell_type": "code",
   "execution_count": 92,
   "id": "e8dc7a74",
   "metadata": {},
   "outputs": [
    {
     "name": "stdout",
     "output_type": "stream",
     "text": [
      "P = 2.67267834 (au)\n",
      "I0 = 0.0008176536417967821 (au)\n",
      "Checking P = 2.67267834 (au)\n",
      "I0 = 0.5262754044378747 (10^{13}W/cm^2)\n"
     ]
    }
   ],
   "source": [
    "# I0 from P\n",
    "P = 2.67\n",
    "P = PS12 #1.89\n",
    "deltaalpha = 16.20\n",
    "print('P =',P, '(au)')\n",
    "I0 = Ut.getI0(P, sigma,deltaalpha)\n",
    "print('I0 =',I0, '(au)')\n",
    "print('Checking P =', Ut.getP(deltaalpha,I0,sigma), '(au)')\n",
    "print('I0 =', I0*pa.I0_SI/10000.*10**(-13.), '(10^{13}W/cm^2)')"
   ]
  },
  {
   "cell_type": "markdown",
   "id": "c9f68b51",
   "metadata": {},
   "source": [
    "Notice that a value of $I_0 \\approx 0.5 \\times 10^{13}$ $W/cm^2$ at $FWHM = 100$ fs was used to create the near $50-50\\%$-super position state of $j=0,2$ in our interferometry paper.  "
   ]
  },
  {
   "cell_type": "code",
   "execution_count": 72,
   "id": "4174230c",
   "metadata": {},
   "outputs": [
    {
     "name": "stdout",
     "output_type": "stream",
     "text": [
      "Pc =  2.672678339999959 (au)\n"
     ]
    }
   ],
   "source": [
    "# Check P via integration\n",
    "Pcheck = Ut.getP_int(deltaalpha, I0, t0, sigma)\n",
    "print('Pc = ', Pcheck, '(au)')"
   ]
  },
  {
   "cell_type": "code",
   "execution_count": 73,
   "id": "2003aedb",
   "metadata": {},
   "outputs": [],
   "source": [
    "# Get the new Gaussian\n",
    "time2 = np.arange(-10.*sigma,10.*sigma,0.1*sigma)\n",
    "gauss2 = np.zeros(len(time))\n",
    "for i in range(len(time)):\n",
    "    gauss2[i] = Gauss(time2[i], t0, I0, sigma)"
   ]
  },
  {
   "cell_type": "code",
   "execution_count": 74,
   "id": "3265c080",
   "metadata": {},
   "outputs": [
    {
     "data": {
      "image/png": "[encoded data removed]",
      "text/plain": [
       "<Figure size 432x288 with 1 Axes>"
      ]
     },
     "metadata": {
      "needs_background": "light"
     },
     "output_type": "display_data"
    }
   ],
   "source": [
    "fig, ax = plt.subplots()\n",
    "ax.plot(time2*6.*B, gauss2)\n",
    "plt.show()"
   ]
  },
  {
   "cell_type": "code",
   "execution_count": null,
   "id": "ffc9feff",
   "metadata": {},
   "outputs": [],
   "source": []
  },
  {
   "cell_type": "code",
   "execution_count": 75,
   "id": "08602383",
   "metadata": {},
   "outputs": [
    {
     "data": {
      "text/plain": [
       "array([[-0.24759336+0.j, -0.22145423+0.j],\n",
       "       [-0.22145423+0.j, -0.38907527+0.j]])"
      ]
     },
     "execution_count": 75,
     "metadata": {},
     "output_type": "execute_result"
    }
   ],
   "source": [
    "HI = H1_I0(deltaalpha)\n",
    "HI.full()"
   ]
  },
  {
   "cell_type": "code",
   "execution_count": 76,
   "id": "a7a61b38",
   "metadata": {},
   "outputs": [
    {
     "data": {
      "text/plain": [
       "array([[1.+0.j],\n",
       "       [0.+0.j]])"
      ]
     },
     "execution_count": 76,
     "metadata": {},
     "output_type": "execute_result"
    }
   ],
   "source": [
    "#psi0 = qutip.Qobj((qutip.basis(2,0) + qutip.basis(2,1).unit()))\n",
    "psi0 = qutip.Qobj(qutip.basis(2,0))\n",
    "psi0.full()"
   ]
  },
  {
   "cell_type": "code",
   "execution_count": 77,
   "id": "1dbd55ae",
   "metadata": {},
   "outputs": [
    {
     "name": "stdout",
     "output_type": "stream",
     "text": [
      "1755.606467136925\n"
     ]
    }
   ],
   "source": [
    "Op1 = Pauli(0)\n",
    "Op2 = Pauli(1)\n",
    "Op3 = Pauli(2)\n",
    "Op4 = Pauli(3)\n",
    "print(sigma)\n",
    "output = qutip.mesolve([H0, [HI,Gauss_me]], psi0, time2, e_ops=[Op1, Op2, Op3, Op4], args={'t0': t0, 'I0': I0, 'sigma': sigma})"
   ]
  },
  {
   "cell_type": "code",
   "execution_count": 78,
   "id": "1e486cd7",
   "metadata": {},
   "outputs": [
    {
     "name": "stdout",
     "output_type": "stream",
     "text": [
      "Result object with sesolve data.\n",
      "--------------------------------\n",
      "expect = True\n",
      "num_expect = 4, num_collapse = 0\n"
     ]
    }
   ],
   "source": [
    "print(output)"
   ]
  },
  {
   "cell_type": "code",
   "execution_count": null,
   "id": "e4571063",
   "metadata": {},
   "outputs": [],
   "source": []
  },
  {
   "cell_type": "code",
   "execution_count": 79,
   "id": "93caa4f0",
   "metadata": {},
   "outputs": [
    {
     "data": {
      "image/png": "[encoded data removed]",
      "text/plain": [
       "<Figure size 432x288 with 1 Axes>"
      ]
     },
     "metadata": {
      "needs_background": "light"
     },
     "output_type": "display_data"
    }
   ],
   "source": [
    "fig, ax = plt.subplots()\n",
    "t  = output.times*6*B\n",
    "S0 = output.expect[0]\n",
    "S1 = output.expect[1]\n",
    "S2 = output.expect[2]\n",
    "S3 = output.expect[3]\n",
    "ax.plot(t, S0, t, S1, t, S2, t, S3)\n",
    "plt.show()"
   ]
  },
  {
   "cell_type": "code",
   "execution_count": 80,
   "id": "baa58484",
   "metadata": {},
   "outputs": [
    {
     "name": "stdout",
     "output_type": "stream",
     "text": [
      "50.0 (fs)\n",
      "877.8032335684625 (au)\n",
      "I0 = 0.0016353072835935641 (au)\n"
     ]
    }
   ],
   "source": [
    "# Get sigma from FWHM\n",
    "FWHM = 50. # in femtoseconds\n",
    "print(FWHM, '(fs)')\n",
    "sigma = sigmaFromFWHM(FWHM) # in atomic units\n",
    "print(sigma, '(au)')\n",
    "# I0 from P\n",
    "I0 = Ut.getI0(P, sigma,deltaalpha)\n",
    "print('I0 =',I0, '(au)')\n",
    "I0 = Ut.getI0(P, sigma,deltaalpha)\n",
    "output = qutip.mesolve([H0, [HI,Gauss_me]], psi0, time2, e_ops=[Op1, Op2, Op3, Op4], args={'t0': t0,'I0': I0,'sigma': sigma})"
   ]
  },
  {
   "cell_type": "code",
   "execution_count": 81,
   "id": "572c7cf6",
   "metadata": {},
   "outputs": [
    {
     "data": {
      "image/png": "[encoded data removed]",
      "text/plain": [
       "<Figure size 432x288 with 1 Axes>"
      ]
     },
     "metadata": {
      "needs_background": "light"
     },
     "output_type": "display_data"
    }
   ],
   "source": [
    "fig, ax = plt.subplots()\n",
    "t  = output.times*6*B\n",
    "S0_50 = output.expect[0]\n",
    "S1_50 = output.expect[1]\n",
    "S2_50 = output.expect[2]\n",
    "S3_50 = output.expect[3]\n",
    "ax.plot(t, S3, '-', color='red')\n",
    "ax.plot(t, S3_50, '--', color='blue')\n",
    "plt.show()"
   ]
  },
  {
   "cell_type": "code",
   "execution_count": 82,
   "id": "7960eeba",
   "metadata": {},
   "outputs": [
    {
     "name": "stdout",
     "output_type": "stream",
     "text": [
      "0.0034326253320920985 -0.021975648935160075\n"
     ]
    }
   ],
   "source": [
    "print(S3[-1], S3_50[-1])"
   ]
  },
  {
   "cell_type": "code",
   "execution_count": 83,
   "id": "7493fb9a",
   "metadata": {},
   "outputs": [
    {
     "name": "stdout",
     "output_type": "stream",
     "text": [
      "75.0 (fs)\n",
      "1316.7048503526937 (au)\n",
      "I0 = 0.0010902048557290427 (au)\n"
     ]
    }
   ],
   "source": [
    "# Get sigma from FWHM\n",
    "FWHM = 75. # in femtoseconds\n",
    "print(FWHM, '(fs)')\n",
    "sigma = sigmaFromFWHM(FWHM) # in atomic units\n",
    "print(sigma, '(au)')\n",
    "# I0 from P\n",
    "I0 = Ut.getI0(P, sigma,deltaalpha)\n",
    "print('I0 =',I0, '(au)')\n",
    "I0 = Ut.getI0(P, sigma,deltaalpha)\n",
    "output = qutip.mesolve([H0, [HI,Gauss_me]], psi0, time2, e_ops=[Op1, Op2, Op3, Op4], args={'t0': t0,'I0': I0,'sigma': sigma})"
   ]
  },
  {
   "cell_type": "code",
   "execution_count": 84,
   "id": "645b3710",
   "metadata": {},
   "outputs": [
    {
     "data": {
      "image/png": "[encoded data removed]",
      "text/plain": [
       "<Figure size 432x288 with 1 Axes>"
      ]
     },
     "metadata": {
      "needs_background": "light"
     },
     "output_type": "display_data"
    }
   ],
   "source": [
    "fig, ax = plt.subplots()\n",
    "t  = output.times*6*B\n",
    "S0_10 = output.expect[0]\n",
    "S1_10 = output.expect[1]\n",
    "S2_10 = output.expect[2]\n",
    "S3_10 = output.expect[3]\n",
    "ax.plot(t, S3, '-', color='red', label='100 fs')\n",
    "ax.plot(t, S3_50, '--', color='blue', label='50 fs')\n",
    "ax.plot(t, S3_10, color='black', label='75 fs')\n",
    "plt.legend(loc='upper right')\n",
    "plt.show()"
   ]
  },
  {
   "cell_type": "code",
   "execution_count": 85,
   "id": "5ff905cf",
   "metadata": {},
   "outputs": [
    {
     "name": "stdout",
     "output_type": "stream",
     "text": [
      "0.0034326253320920985 -0.021975648935160075 -0.015102680878698649\n"
     ]
    }
   ],
   "source": [
    "print(S3[-1], S3_50[-1], S3_10[-1])"
   ]
  },
  {
   "cell_type": "code",
   "execution_count": 86,
   "id": "5c5f1595",
   "metadata": {},
   "outputs": [
    {
     "name": "stdout",
     "output_type": "stream",
     "text": [
      "150.0 (fs)\n",
      "2633.4097007053874 (au)\n",
      "I0 = 0.0005451024278645214 (au)\n"
     ]
    }
   ],
   "source": [
    "# Get sigma from FWHM\n",
    "FWHM = 150. # in femtoseconds\n",
    "print(FWHM, '(fs)')\n",
    "sigma = sigmaFromFWHM(FWHM) # in atomic units\n",
    "print(sigma, '(au)')\n",
    "# I0 from P\n",
    "I0 = Ut.getI0(P, sigma,deltaalpha)\n",
    "print('I0 =',I0, '(au)')\n",
    "I0 = Ut.getI0(P, sigma,deltaalpha)\n",
    "output = qutip.mesolve([H0, [HI,Gauss_me]], psi0, time2, e_ops=[Op1, Op2, Op3, Op4], args={'t0': t0,'I0': I0,'sigma': sigma})"
   ]
  },
  {
   "cell_type": "code",
   "execution_count": 87,
   "id": "e72d7457",
   "metadata": {},
   "outputs": [
    {
     "data": {
      "image/png": "[encoded data removed]",
      "text/plain": [
       "<Figure size 432x288 with 1 Axes>"
      ]
     },
     "metadata": {
      "needs_background": "light"
     },
     "output_type": "display_data"
    }
   ],
   "source": [
    "fig, ax = plt.subplots()\n",
    "t  = output.times*6*B\n",
    "S0_150 = output.expect[0]\n",
    "S1_150 = output.expect[1]\n",
    "S2_150 = output.expect[2]\n",
    "S3_150 = output.expect[3]\n",
    "ax.plot(t, S3, '-', color='red', label='100 fs')\n",
    "ax.plot(t, S3_50, '--', color='blue', label='50 fs')\n",
    "ax.plot(t, S3_10, color='black', label='75 fs')\n",
    "ax.plot(t, S3_150, label='150 fs')\n",
    "plt.legend(loc='upper right')\n",
    "plt.show()"
   ]
  },
  {
   "cell_type": "code",
   "execution_count": null,
   "id": "fd55394a",
   "metadata": {},
   "outputs": [],
   "source": []
  }
 ],
 "metadata": {
  "kernelspec": {
   "display_name": "Python 3 (ipykernel)",
   "language": "python",
   "name": "python3"
  },
  "language_info": {
   "codemirror_mode": {
    "name": "ipython",
    "version": 3
   },
   "file_extension": ".py",
   "mimetype": "text/x-python",
   "name": "python",
   "nbconvert_exporter": "python",
   "pygments_lexer": "ipython3",
   "version": "3.10.12"
  }
 },
 "nbformat": 4,
 "nbformat_minor": 5
}
