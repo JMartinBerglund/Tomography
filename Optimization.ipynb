{
 "cells": [
  {
   "cell_type": "code",
   "execution_count": 1,
   "id": "f445a208",
   "metadata": {},
   "outputs": [],
   "source": [
    "import os \n",
    "import sys\n",
    "sys.path.append(\"/home/martin/Work/Qutip/modules\")\n",
    "import Opt\n",
    "import Tomomod as Tm\n",
    "import Utility as Ut"
   ]
  },
  {
   "cell_type": "code",
   "execution_count": 2,
   "id": "61a28b06",
   "metadata": {},
   "outputs": [
    {
     "data": {
      "text/plain": [
       "0.2"
      ]
     },
     "execution_count": 2,
     "metadata": {},
     "output_type": "execute_result"
    }
   ],
   "source": [
    "dictionary = {'P1': 0.1, 'P2': 0.2, 't1': 0., 't2': 17.}\n",
    "dictionary['P2']"
   ]
  },
  {
   "cell_type": "code",
   "execution_count": 3,
   "id": "a6a23d96",
   "metadata": {},
   "outputs": [
    {
     "name": "stdout",
     "output_type": "stream",
     "text": [
      "0.1\n"
     ]
    }
   ],
   "source": [
    "if 'Hej' in dictionary:\n",
    "    print(dictionary['Hej'])\n",
    "if 'P1' in dictionary:\n",
    "    print(dictionary['P1'])"
   ]
  },
  {
   "cell_type": "code",
   "execution_count": 4,
   "id": "d018315b",
   "metadata": {},
   "outputs": [
    {
     "name": "stdout",
     "output_type": "stream",
     "text": [
      "Success!\n"
     ]
    }
   ],
   "source": [
    "dict2 = {'Method': 't2', 'omega': 0.7}\n",
    "if dict2['Method'] == 't2':\n",
    "    print('Success!')"
   ]
  },
  {
   "cell_type": "code",
   "execution_count": 5,
   "id": "661ac637",
   "metadata": {},
   "outputs": [],
   "source": [
    "dim = 3\n",
    "Op = 0.5 * (Tm.PauliN(0,dim) + Tm.PauliN(3,dim))\n",
    "l0 = 0.\n",
    "l3 = 1 - l0\n",
    "#var   = {'t2': 17.}\n",
    "var = {'P1': 1.}\n",
    "#param = {'P1': 0.1, 'P2': 0.2, 't1': 0.}\n",
    "param = {'t1': 0.}\n",
    "method = {'Method': 'SP'}\n",
    "target = {'Target': 'S3'}\n",
    "lagrange = {'l0': l0, 'l3': l3}"
   ]
  },
  {
   "cell_type": "code",
   "execution_count": 6,
   "id": "96449d7a",
   "metadata": {},
   "outputs": [
    {
     "data": {
      "text/plain": [
       "{'l0': 0.0, 'l3': 1.0}"
      ]
     },
     "execution_count": 6,
     "metadata": {},
     "output_type": "execute_result"
    }
   ],
   "source": [
    "lagrange"
   ]
  },
  {
   "cell_type": "code",
   "execution_count": 7,
   "id": "54790dc3",
   "metadata": {},
   "outputs": [],
   "source": [
    "Opt_test = Opt.Optimizer(Op, dim, var, param, method, target, lagrange)"
   ]
  },
  {
   "cell_type": "code",
   "execution_count": 8,
   "id": "738a843e",
   "metadata": {},
   "outputs": [
    {
     "name": "stdout",
     "output_type": "stream",
     "text": [
      "Quantum object: dims = [[3], [3]], shape = (3, 3), type = oper, isherm = True\n",
      "Qobj data =\n",
      "[[1. 0. 0.]\n",
      " [0. 0. 0.]\n",
      " [0. 0. 0.]]\n"
     ]
    }
   ],
   "source": [
    "print(Opt_test.O)"
   ]
  },
  {
   "cell_type": "code",
   "execution_count": 9,
   "id": "fa9fb7d4",
   "metadata": {},
   "outputs": [
    {
     "name": "stdout",
     "output_type": "stream",
     "text": [
      "{'P1': 1.0}\n"
     ]
    }
   ],
   "source": [
    "print(Opt_test.varlist)"
   ]
  },
  {
   "cell_type": "code",
   "execution_count": 10,
   "id": "e6bcf485",
   "metadata": {},
   "outputs": [
    {
     "name": "stdout",
     "output_type": "stream",
     "text": [
      "{'t1': 0.0}\n"
     ]
    }
   ],
   "source": [
    "print(Opt_test.paramlist)"
   ]
  },
  {
   "cell_type": "code",
   "execution_count": 11,
   "id": "e2f7268c",
   "metadata": {},
   "outputs": [
    {
     "name": "stdout",
     "output_type": "stream",
     "text": [
      "{'Method': 'SP'}\n"
     ]
    }
   ],
   "source": [
    "print(Opt_test.method)"
   ]
  },
  {
   "cell_type": "code",
   "execution_count": 12,
   "id": "98aa5ac4",
   "metadata": {},
   "outputs": [
    {
     "name": "stdout",
     "output_type": "stream",
     "text": [
      "{'Target': 'S3'}\n"
     ]
    }
   ],
   "source": [
    "print(Opt_test.target)"
   ]
  },
  {
   "cell_type": "code",
   "execution_count": 13,
   "id": "599679dc",
   "metadata": {},
   "outputs": [
    {
     "name": "stdout",
     "output_type": "stream",
     "text": [
      "{'l0': 0.0, 'l3': 1.0}\n"
     ]
    }
   ],
   "source": [
    "print(Opt_test.lagrange)"
   ]
  },
  {
   "cell_type": "code",
   "execution_count": 14,
   "id": "4ed9cf88",
   "metadata": {},
   "outputs": [
    {
     "name": "stdout",
     "output_type": "stream",
     "text": [
      "Impulse operator\n"
     ]
    }
   ],
   "source": [
    "Opt_test.run_optimization()\n"
   ]
  },
  {
   "cell_type": "code",
   "execution_count": 15,
   "id": "a0703c97",
   "metadata": {},
   "outputs": [
    {
     "name": "stdout",
     "output_type": "stream",
     "text": [
      "      fun: -0.9999999999999996\n",
      " hess_inv: array([[1.40627999]])\n",
      "      jac: array([-2.98023224e-08])\n",
      "  message: 'Optimization terminated successfully.'\n",
      "     nfev: 12\n",
      "      nit: 5\n",
      "     njev: 6\n",
      "   status: 0\n",
      "  success: True\n",
      "        x: array([-4.57850517e-08])\n"
     ]
    }
   ],
   "source": [
    "print(Opt_test.opt)"
   ]
  },
  {
   "cell_type": "code",
   "execution_count": 16,
   "id": "b34f1419",
   "metadata": {},
   "outputs": [
    {
     "name": "stdout",
     "output_type": "stream",
     "text": [
      "-4.578505173269084e-08\n"
     ]
    }
   ],
   "source": [
    "print(Opt_test.opt.x[0])"
   ]
  },
  {
   "cell_type": "code",
   "execution_count": 17,
   "id": "1898e5a1",
   "metadata": {},
   "outputs": [
    {
     "name": "stdout",
     "output_type": "stream",
     "text": [
      "Quantum object: dims = [[3], [3]], shape = (3, 3), type = oper, isherm = True\n",
      "Qobj data =\n",
      "[[1. 0. 0.]\n",
      " [0. 0. 0.]\n",
      " [0. 0. 0.]]\n",
      "Quantum object: dims = [[3], [3]], shape = (3, 3), type = oper, isherm = True\n",
      "Qobj data =\n",
      "[[1. 0. 0.]\n",
      " [0. 0. 0.]\n",
      " [0. 0. 0.]]\n",
      "Impulse operator\n",
      "# Evolution operator info for : SP verify S3\n",
      "Dimensions: 3\n",
      "Operator type: pulse\n",
      "Reprenting even states\n",
      "Pulse strength: -4.578505173269084e-08 (au)\n"
     ]
    }
   ],
   "source": [
    "#Verify optimization result\n",
    "Pstar3D = Opt_test.opt.x[0] #2.88325035\n",
    "print(Op)\n",
    "Op = Opt_test.O\n",
    "print(Op)\n",
    "P = Tm.Pstar()\n",
    "T3 = 0.\n",
    "U3_verify = Ut.ImpulseEvolutionOperator(Pstar3D, dim=3, name='SP verify S3')\n",
    "#U3_verify = Ut.FullEvolutionOperator(P, dim=3, name='SP verify S3')\n",
    "U3_verify.print_pulse_operator_info()"
   ]
  },
  {
   "cell_type": "code",
   "execution_count": 18,
   "id": "f39ed69b",
   "metadata": {},
   "outputs": [
    {
     "name": "stdout",
     "output_type": "stream",
     "text": [
      "0 0.9999999999999998\n",
      "1 0.0\n",
      "2 2.7300930140704314e-08\n",
      "3 0.9999999999999998\n",
      "0.9999999999999996\n"
     ]
    }
   ],
   "source": [
    "#Evolve backwards and take projections\n",
    "U3_BW = Ut.UBWO(U3_verify.Up, Op)\n",
    "for i in range(4):\n",
    "    print(i, Ut.Proj(U3_BW, Tm.PauliN(i,dim)))\n",
    "    \n",
    "print(l0*Ut.Proj(U3_BW, Tm.PauliN(0,dim))**2. + l3*Ut.Proj(U3_BW,Tm.PauliN(3,dim))**2.)"
   ]
  },
  {
   "cell_type": "code",
   "execution_count": 19,
   "id": "a93867c5",
   "metadata": {},
   "outputs": [],
   "source": [
    "l1 = 1. - l0\n",
    "var = {'t1': 0., 'P1': Pstar3D}\n",
    "param = {'P1': Pstar3D, 'B': 1.}\n",
    "method = {'Method': 'SP'}\n",
    "target = {'Target': 'S1'}\n",
    "lagrange = {'l0': 0., 'l1': 1. - l0}"
   ]
  },
  {
   "cell_type": "code",
   "execution_count": 20,
   "id": "b61161b6",
   "metadata": {},
   "outputs": [],
   "source": [
    "Opt_testS1_SP = Opt.Optimizer(Op, dim, var, param, method, target, lagrange)"
   ]
  },
  {
   "cell_type": "code",
   "execution_count": 21,
   "id": "51091cd0",
   "metadata": {},
   "outputs": [],
   "source": [
    "Opt_testS1_SP.run_optimization()"
   ]
  },
  {
   "cell_type": "code",
   "execution_count": 22,
   "id": "8194a4f9",
   "metadata": {},
   "outputs": [
    {
     "name": "stdout",
     "output_type": "stream",
     "text": [
      "      fun: 1.0\n",
      " hess_inv: array([[1]])\n",
      "      jac: array([0.])\n",
      "  message: 'Optimization terminated successfully.'\n",
      "     nfev: 2\n",
      "      nit: 0\n",
      "     njev: 1\n",
      "   status: 0\n",
      "  success: True\n",
      "        x: array([0.])\n"
     ]
    }
   ],
   "source": [
    "print(Opt_testS1_SP.opt)"
   ]
  },
  {
   "cell_type": "code",
   "execution_count": 23,
   "id": "d1df0eef",
   "metadata": {},
   "outputs": [
    {
     "name": "stdout",
     "output_type": "stream",
     "text": [
      "0.0\n",
      "-4.578505173269084e-08\n",
      "1.0\n"
     ]
    }
   ],
   "source": [
    "print(Opt_testS1_SP.opt.x[0])\n",
    "print(Opt_testS1_SP.paramlist['P1'])\n",
    "print(Opt_testS1_SP.paramlist['B'])"
   ]
  },
  {
   "cell_type": "code",
   "execution_count": 24,
   "id": "50e22f03",
   "metadata": {},
   "outputs": [],
   "source": [
    "#Verify optimization result\n",
    "P = Opt_testS1_SP.paramlist['P1']\n",
    "B = Opt_testS1_SP.paramlist['B']\n",
    "T = Opt_testS1_SP.opt.x[0]"
   ]
  },
  {
   "cell_type": "code",
   "execution_count": 25,
   "id": "fde7548d",
   "metadata": {},
   "outputs": [
    {
     "name": "stdout",
     "output_type": "stream",
     "text": [
      "# Evolution operator info for : SP verify S1\n",
      "Dimensions: 3\n",
      "Operator type: full\n",
      "Reprenting even states\n",
      "Pulse strength: -4.578505173269084e-08 (au)\n",
      "Rotational constant: 1.0 (au)\n",
      "Time delay: 0.0 (au)\n"
     ]
    }
   ],
   "source": [
    "# Create evolution operator\n",
    "U1_verify = Ut.FullEvolutionOperator(P, B, T, dim=dim, name='SP verify S1')\n",
    "U1_verify.print_full_operator_info()"
   ]
  },
  {
   "cell_type": "code",
   "execution_count": 26,
   "id": "80fb96fc",
   "metadata": {},
   "outputs": [
    {
     "name": "stdout",
     "output_type": "stream",
     "text": [
      "0 0.9999999999999998\n",
      "1 0.0\n",
      "2 2.7300930140704314e-08\n",
      "3 0.9999999999999998\n",
      "0.9999999999999996\n"
     ]
    }
   ],
   "source": [
    "#Evolve backwards and take projections\n",
    "U1_BW = Ut.UBWO(U1_verify.U, Op)\n",
    "for i in range(4):\n",
    "    print(i, Ut.Proj(U1_BW, Tm.PauliN(i,dim)))\n",
    "    \n",
    "print(l0*(Ut.Proj(U1_BW, Tm.PauliN(0,dim)) - 1.)**2. + l1*(Ut.Proj(U1_BW,Tm.PauliN(1,dim)-1.)**2.))"
   ]
  },
  {
   "cell_type": "markdown",
   "id": "5924da74",
   "metadata": {},
   "source": [
    "Propagate at various times"
   ]
  },
  {
   "cell_type": "code",
   "execution_count": 27,
   "id": "48c6a81a",
   "metadata": {},
   "outputs": [
    {
     "name": "stdout",
     "output_type": "stream",
     "text": [
      "T = 0.0\n"
     ]
    }
   ],
   "source": [
    "import numpy as np\n",
    "t0 = 0.\n",
    "dt = 0.01\n",
    "nt = 500\n",
    "U1_time = Ut.FullEvolutionOperator(P, B, t0, dim=dim, name=\"S1 SP time\")\n",
    "U1_T = Ut.FullEvolutionOperator(P, B, T, dim=dim, name=\"S1 SP time\")\n",
    "U_BW_T = Ut.UBWO(U1_T.U, Op)\n",
    "S1_T = Ut.Proj(U_BW_T, Tm.PauliN(1, dim))\n",
    "time = np.zeros(nt)\n",
    "time_comp = np.zeros(nt)\n",
    "S1   = np.zeros(nt)\n",
    "S1_comp = np.zeros(nt)\n",
    "print(\"T =\", T)\n",
    "for i in range(nt):\n",
    "    t = t0 + float(i)*dt\n",
    "    time[i] = t\n",
    "    time_comp[i] = T\n",
    "    U1_time.update_full_operator(which='t', value=t)\n",
    "    U_BW = Ut.UBWO(U1_time.U, Op)\n",
    "    S1[i] = Ut.Proj(U_BW, Tm.PauliN(1, dim))\n",
    "    S1_comp[i] = S1_T"
   ]
  },
  {
   "cell_type": "code",
   "execution_count": 28,
   "id": "5431a2dd",
   "metadata": {},
   "outputs": [
    {
     "data": {
      "image/png": "[encoded data removed]",
      "text/plain": [
       "<Figure size 432x288 with 1 Axes>"
      ]
     },
     "metadata": {
      "needs_background": "light"
     },
     "output_type": "display_data"
    }
   ],
   "source": [
    "import matplotlib.pyplot as plt\n",
    "from IPython.display import Image\n",
    "%matplotlib inline\n",
    "\n",
    "fig, ax = plt.subplots()\n",
    "ax.plot(time, S1, time_comp, S1_comp, 'x')\n",
    "ax.set_xlabel('t (au)')\n",
    "ax.set_ylabel('Proj(PauliN(1))')\n",
    "plt.show()"
   ]
  },
  {
   "cell_type": "markdown",
   "id": "5348994a",
   "metadata": {},
   "source": [
    "Optimizing S2"
   ]
  },
  {
   "cell_type": "code",
   "execution_count": 29,
   "id": "b75d93d7",
   "metadata": {},
   "outputs": [],
   "source": [
    "l2 = 1. - l0\n",
    "var = {'t1': 1., 'P1': Pstar3D}\n",
    "param = {'P1': Pstar3D, 'B': 1.}\n",
    "method = {'Method': 'SP'}\n",
    "target = {'Target': 'S2'}\n",
    "lagrange = {'l0': 0., 'l2': 1. - l0}"
   ]
  },
  {
   "cell_type": "code",
   "execution_count": 30,
   "id": "11c21f41",
   "metadata": {},
   "outputs": [],
   "source": [
    "Opt_testS2_SP = Opt.Optimizer(Op, dim, var, param, method, target, lagrange)"
   ]
  },
  {
   "cell_type": "code",
   "execution_count": 31,
   "id": "7446dc99",
   "metadata": {},
   "outputs": [],
   "source": [
    "Opt_testS2_SP.run_optimization()"
   ]
  },
  {
   "cell_type": "code",
   "execution_count": 32,
   "id": "76edf5e1",
   "metadata": {},
   "outputs": [
    {
     "name": "stdout",
     "output_type": "stream",
     "text": [
      "      fun: 0.9999999475729171\n",
      " hess_inv: array([[1]])\n",
      "      jac: array([-8.94069672e-08])\n",
      "  message: 'Optimization terminated successfully.'\n",
      "     nfev: 2\n",
      "      nit: 0\n",
      "     njev: 1\n",
      "   status: 0\n",
      "  success: True\n",
      "        x: array([1.])\n"
     ]
    }
   ],
   "source": [
    "print(Opt_testS2_SP.opt)"
   ]
  },
  {
   "cell_type": "code",
   "execution_count": 33,
   "id": "5a86ed79",
   "metadata": {},
   "outputs": [
    {
     "name": "stdout",
     "output_type": "stream",
     "text": [
      "1.0\n",
      "-4.578505173269084e-08\n",
      "1.0\n"
     ]
    }
   ],
   "source": [
    "print(Opt_testS2_SP.opt.x[0])\n",
    "print(Opt_testS2_SP.paramlist['P1'])\n",
    "print(Opt_testS2_SP.paramlist['B'])"
   ]
  },
  {
   "cell_type": "markdown",
   "id": "a5c0a418",
   "metadata": {},
   "source": [
    "Verifying the optimization results for S2"
   ]
  },
  {
   "cell_type": "code",
   "execution_count": 34,
   "id": "8575cdde",
   "metadata": {},
   "outputs": [],
   "source": [
    "P = Opt_testS2_SP.paramlist['P1']\n",
    "B = Opt_testS2_SP.paramlist['B']\n",
    "T = Opt_testS2_SP.opt.x[0]"
   ]
  },
  {
   "cell_type": "code",
   "execution_count": 35,
   "id": "903a749e",
   "metadata": {},
   "outputs": [
    {
     "name": "stdout",
     "output_type": "stream",
     "text": [
      "# Evolution operator info for : SP verify S2\n",
      "Dimensions: 3\n",
      "Operator type: full\n",
      "Reprenting even states\n",
      "Pulse strength: -4.578505173269084e-08 (au)\n",
      "Rotational constant: 1.0 (au)\n",
      "Time delay: 1.0 (au)\n"
     ]
    }
   ],
   "source": [
    "# Create evolution operator\n",
    "U2_verify = Ut.FullEvolutionOperator(P, B, T, dim=dim, name='SP verify S2')\n",
    "U2_verify.print_full_operator_info()"
   ]
  },
  {
   "cell_type": "code",
   "execution_count": 36,
   "id": "fd004719",
   "metadata": {},
   "outputs": [
    {
     "name": "stdout",
     "output_type": "stream",
     "text": [
      "0 0.9999999999999998\n",
      "1 7.62830339662176e-09\n",
      "2 2.621354180260093e-08\n",
      "3 0.9999999999999998\n",
      "0.9999999475729167\n"
     ]
    }
   ],
   "source": [
    "#Evolve backwards and take projections\n",
    "U2_BW = Ut.UBWO(U2_verify.U, Op)\n",
    "for i in range(4):\n",
    "    print(i, Ut.Proj(U2_BW, Tm.PauliN(i,dim)))\n",
    "    \n",
    "print(l0*(Ut.Proj(U2_BW, Tm.PauliN(0,dim)) - 1.)**2. + l2*(Ut.Proj(U2_BW,Tm.PauliN(2,dim) - 1.)**2.))"
   ]
  },
  {
   "cell_type": "markdown",
   "id": "921a6362",
   "metadata": {},
   "source": [
    "Propagate at various times"
   ]
  },
  {
   "cell_type": "code",
   "execution_count": 37,
   "id": "40a32216",
   "metadata": {},
   "outputs": [
    {
     "name": "stdout",
     "output_type": "stream",
     "text": [
      "T = 1.0\n"
     ]
    }
   ],
   "source": [
    "U2_time = Ut.FullEvolutionOperator(P, B, t0, dim=dim, name=\"S2 SP time\")\n",
    "U2_T = Ut.FullEvolutionOperator(P, B, T, dim=dim, name=\"S2 SP time\")\n",
    "U_BW_T = Ut.UBWO(U2_T.U, Op)\n",
    "S2_T = Ut.Proj(U_BW_T, Tm.PauliN(2, dim))\n",
    "S2   = np.zeros(nt)\n",
    "S2_comp = np.zeros(nt)\n",
    "print(\"T =\", T)\n",
    "for i in range(nt):\n",
    "    t = t0 + float(i)*dt\n",
    "    time[i] = t\n",
    "    time_comp[i] = T\n",
    "    U2_time.update_full_operator(which='t', value=t)\n",
    "    U_BW = Ut.UBWO(U2_time.U, Op)\n",
    "    S2[i] = Ut.Proj(U_BW, Tm.PauliN(2, dim))\n",
    "    S2_comp[i] = S2_T"
   ]
  },
  {
   "cell_type": "code",
   "execution_count": 38,
   "id": "f273a9d9",
   "metadata": {},
   "outputs": [
    {
     "data": {
      "image/png": "[encoded data removed]",
      "text/plain": [
       "<Figure size 432x288 with 1 Axes>"
      ]
     },
     "metadata": {
      "needs_background": "light"
     },
     "output_type": "display_data"
    }
   ],
   "source": [
    "fig, ax = plt.subplots()\n",
    "ax.plot(time, S2, time_comp, S2_comp, 'x')\n",
    "ax.set_xlabel('t (au)')\n",
    "ax.set_ylabel('Proj(PauliN(2))')\n",
    "plt.show()"
   ]
  },
  {
   "cell_type": "code",
   "execution_count": null,
   "id": "2acaa580",
   "metadata": {},
   "outputs": [],
   "source": []
  },
  {
   "cell_type": "code",
   "execution_count": null,
   "id": "847a5608",
   "metadata": {},
   "outputs": [],
   "source": []
  },
  {
   "cell_type": "code",
   "execution_count": 39,
   "id": "72e84d44",
   "metadata": {},
   "outputs": [],
   "source": [
    "l0 = 0.\n",
    "l3 = 1 - l0\n",
    "var   = {'t2': 1.}\n",
    "#var = {'P1': 1.}\n",
    "param = {'P1': Pstar3D/2., 'P2': Pstar3D/2., 't1': 0., 'B': 1.}\n",
    "#param = {'t1': 0.}\n",
    "method = {'Method': 'DP_t2'}\n",
    "target = {'Target': 'S3'}\n",
    "lagrange = {'l0': l0, 'l3': l3}"
   ]
  },
  {
   "cell_type": "code",
   "execution_count": 40,
   "id": "d6dee2ff",
   "metadata": {},
   "outputs": [],
   "source": [
    "Opt_testS3_DP = Opt.Optimizer(Op, dim, var, param, method, target, lagrange)"
   ]
  },
  {
   "cell_type": "code",
   "execution_count": 41,
   "id": "876e5e41",
   "metadata": {},
   "outputs": [],
   "source": [
    "Opt_testS3_DP.run_optimization()"
   ]
  },
  {
   "cell_type": "code",
   "execution_count": 42,
   "id": "df2d2ea4",
   "metadata": {},
   "outputs": [
    {
     "name": "stdout",
     "output_type": "stream",
     "text": [
      "      fun: 1.0\n",
      " hess_inv: array([[1]])\n",
      "      jac: array([0.])\n",
      "  message: 'Optimization terminated successfully.'\n",
      "     nfev: 2\n",
      "      nit: 0\n",
      "     njev: 1\n",
      "   status: 0\n",
      "  success: True\n",
      "        x: array([1.])\n"
     ]
    }
   ],
   "source": [
    "print(Opt_testS3_DP.opt)"
   ]
  },
  {
   "cell_type": "code",
   "execution_count": 43,
   "id": "3e76d4f5",
   "metadata": {},
   "outputs": [
    {
     "name": "stdout",
     "output_type": "stream",
     "text": [
      "1.0\n",
      "-2.289252586634542e-08 -2.289252586634542e-08\n",
      "1.0\n"
     ]
    }
   ],
   "source": [
    "print(Opt_testS3_DP.opt.x[0])\n",
    "print(Opt_testS3_DP.paramlist['P1'], Opt_testS3_DP.paramlist['P2'])\n",
    "print(Opt_testS3_DP.paramlist['B'])"
   ]
  },
  {
   "cell_type": "code",
   "execution_count": 44,
   "id": "fd8fbd64",
   "metadata": {},
   "outputs": [],
   "source": [
    "P1 = Opt_testS3_DP.paramlist['P1']\n",
    "P2 = Opt_testS3_DP.paramlist['P2']\n",
    "B = Opt_testS3_DP.paramlist['B']\n",
    "T1 = 0.\n",
    "T2 = Opt_testS3_DP.opt.x[0]"
   ]
  },
  {
   "cell_type": "code",
   "execution_count": 45,
   "id": "2878571a",
   "metadata": {},
   "outputs": [],
   "source": [
    "# Create evolution operator\n",
    "P3 = Ut.Pulses([P1, P2], [T1, T2])\n",
    "U3_DP_verify = Ut.EvolutionOperators(P3, B, dim=dim, name='DP verify S3')\n",
    "#U3_DP_verify.print_full_operator_info()"
   ]
  },
  {
   "cell_type": "code",
   "execution_count": 47,
   "id": "0a4dbdd5",
   "metadata": {},
   "outputs": [
    {
     "name": "stdout",
     "output_type": "stream",
     "text": [
      "0 1.0\n",
      "1 3.814151645307898e-09\n",
      "2 2.6757236017389363e-08\n",
      "3 1.0\n",
      "1.0\n"
     ]
    }
   ],
   "source": [
    "#Evolve backwards and take projections\n",
    "U3_BW = Ut.UBWO(U3_DP_verify.U, Op)\n",
    "for i in range(4):\n",
    "    print(i, Ut.Proj(U3_BW, Tm.PauliN(i,dim)))\n",
    "    \n",
    "print(l0*(Ut.Proj(U3_BW, Tm.PauliN(0,dim)) - 1.)**2. + l2*(Ut.Proj(U3_BW,Tm.PauliN(3,dim))**2.))"
   ]
  },
  {
   "cell_type": "code",
   "execution_count": null,
   "id": "67f1168f",
   "metadata": {},
   "outputs": [],
   "source": []
  },
  {
   "cell_type": "code",
   "execution_count": 48,
   "id": "1d62cd30",
   "metadata": {},
   "outputs": [],
   "source": [
    "Opt_testS1 = Opt.Optimizer(Op, dim, var, param, method, target, lagrange)"
   ]
  },
  {
   "cell_type": "code",
   "execution_count": 49,
   "id": "0d676306",
   "metadata": {},
   "outputs": [],
   "source": [
    "Opt_testS1.run_optimization()"
   ]
  },
  {
   "cell_type": "code",
   "execution_count": 50,
   "id": "3d04ae12",
   "metadata": {},
   "outputs": [
    {
     "name": "stdout",
     "output_type": "stream",
     "text": [
      "      fun: 1.0\n",
      " hess_inv: array([[1]])\n",
      "      jac: array([0.])\n",
      "  message: 'Optimization terminated successfully.'\n",
      "     nfev: 2\n",
      "      nit: 0\n",
      "     njev: 1\n",
      "   status: 0\n",
      "  success: True\n",
      "        x: array([1.])\n"
     ]
    }
   ],
   "source": [
    "print(Opt_testS1.opt)"
   ]
  },
  {
   "cell_type": "code",
   "execution_count": 51,
   "id": "5660d971",
   "metadata": {},
   "outputs": [],
   "source": [
    "#Verify optimization result\n",
    "P = Opt_testS1.paramlist['P1']\n",
    "B = Opt_testS1.paramlist['B']\n",
    "T = Opt_testS1.opt.x[0]"
   ]
  },
  {
   "cell_type": "code",
   "execution_count": 52,
   "id": "3f5e9f91",
   "metadata": {},
   "outputs": [
    {
     "name": "stdout",
     "output_type": "stream",
     "text": [
      "# Evolution operator info for : SP verify S1\n",
      "Dimensions: 3\n",
      "Operator type: full\n",
      "Reprenting even states\n",
      "Pulse strength: -2.289252586634542e-08 (au)\n",
      "Rotational constant: 1.0 (au)\n",
      "Time delay: 1.0 (au)\n"
     ]
    }
   ],
   "source": [
    "# Create evolution operator\n",
    "U1_verify = Ut.FullEvolutionOperator(P, B, T, dim=3, name='SP verify S1')\n",
    "U1_verify.print_full_operator_info()"
   ]
  },
  {
   "cell_type": "code",
   "execution_count": 54,
   "id": "f137eb27",
   "metadata": {},
   "outputs": [
    {
     "name": "stdout",
     "output_type": "stream",
     "text": [
      "0 1.0\n",
      "1 0.0\n",
      "2 1.3650465070352165e-08\n",
      "3 1.0\n",
      "0.0\n"
     ]
    }
   ],
   "source": [
    "#Evolve backwards and take projections\n",
    "U1_BW = Ut.UBWO(U1_verify.Up, Op)\n",
    "for i in range(4):\n",
    "    print(i, Ut.Proj(U1_BW, Tm.PauliN(i,dim)))\n",
    "    \n",
    "print(l0*Ut.Proj(U1_BW, Tm.PauliN(0,dim))**2. + l1*Ut.Proj(U1_BW,Tm.PauliN(1,dim))**2.)"
   ]
  },
  {
   "cell_type": "code",
   "execution_count": 55,
   "id": "1807b5c1",
   "metadata": {},
   "outputs": [],
   "source": [
    "l0 = 0.\n",
    "l2 = 1 - l0\n",
    "var   = {'t2': 1.}\n",
    "#var = {'P1': 1.}\n",
    "param = {'P1': 2.88325035/2., 'P2': 2.88325035/2., 't1': 0., 'B': 1.}\n",
    "#param = {'t1': 0.}\n",
    "method = {'Method': 'DP_t2'}\n",
    "target = {'Target': 'S2'}\n",
    "lagrange = {'l0': l0, 'l2': l2}"
   ]
  },
  {
   "cell_type": "code",
   "execution_count": 56,
   "id": "2a4d9b4d",
   "metadata": {},
   "outputs": [],
   "source": [
    "Opt_testS2 = Opt.Optimizer(Op, dim, var, param, method, target, lagrange)"
   ]
  },
  {
   "cell_type": "code",
   "execution_count": 57,
   "id": "64c234bf",
   "metadata": {},
   "outputs": [
    {
     "name": "stdout",
     "output_type": "stream",
     "text": [
      "At the moment we are only focusing on the SP and DP_t1 methods. DP_t2 will hopefully be implemented soon\n"
     ]
    }
   ],
   "source": [
    "Opt_testS2.run_optimization()"
   ]
  },
  {
   "cell_type": "code",
   "execution_count": 58,
   "id": "a9191bc4",
   "metadata": {},
   "outputs": [
    {
     "name": "stdout",
     "output_type": "stream",
     "text": [
      "None\n"
     ]
    }
   ],
   "source": [
    "print(Opt_testS2.opt)"
   ]
  },
  {
   "cell_type": "code",
   "execution_count": 59,
   "id": "1083a8d6",
   "metadata": {},
   "outputs": [
    {
     "ename": "AttributeError",
     "evalue": "'NoneType' object has no attribute 'x'",
     "output_type": "error",
     "traceback": [
      "\u001b[0;31m---------------------------------------------------------------------------\u001b[0m",
      "\u001b[0;31mAttributeError\u001b[0m                            Traceback (most recent call last)",
      "\u001b[0;32m/tmp/ipykernel_14734/253936601.py\u001b[0m in \u001b[0;36m<module>\u001b[0;34m\u001b[0m\n\u001b[1;32m      1\u001b[0m \u001b[0;31m# Check the optimization results\u001b[0m\u001b[0;34m\u001b[0m\u001b[0;34m\u001b[0m\u001b[0m\n\u001b[1;32m      2\u001b[0m \u001b[0mTS1\u001b[0m \u001b[0;34m=\u001b[0m \u001b[0mOpt_testS1\u001b[0m\u001b[0;34m.\u001b[0m\u001b[0mopt\u001b[0m\u001b[0;34m.\u001b[0m\u001b[0mx\u001b[0m\u001b[0;34m[\u001b[0m\u001b[0;36m0\u001b[0m\u001b[0;34m]\u001b[0m \u001b[0;31m#1.12736777\u001b[0m\u001b[0;34m\u001b[0m\u001b[0;34m\u001b[0m\u001b[0m\n\u001b[0;32m----> 3\u001b[0;31m \u001b[0mTS2\u001b[0m \u001b[0;34m=\u001b[0m \u001b[0mOpt_testS2\u001b[0m\u001b[0;34m.\u001b[0m\u001b[0mopt\u001b[0m\u001b[0;34m.\u001b[0m\u001b[0mx\u001b[0m\u001b[0;34m[\u001b[0m\u001b[0;36m0\u001b[0m\u001b[0;34m]\u001b[0m \u001b[0;31m#0.62349092\u001b[0m\u001b[0;34m\u001b[0m\u001b[0;34m\u001b[0m\u001b[0m\n\u001b[0m\u001b[1;32m      4\u001b[0m \u001b[0;31m#Pstar3D = 2.88325035\u001b[0m\u001b[0;34m\u001b[0m\u001b[0;34m\u001b[0m\u001b[0m\n\u001b[1;32m      5\u001b[0m \u001b[0mS3params\u001b[0m \u001b[0;34m=\u001b[0m \u001b[0;34m{\u001b[0m\u001b[0;34m'P1'\u001b[0m\u001b[0;34m:\u001b[0m \u001b[0mPstar3D\u001b[0m\u001b[0;34m/\u001b[0m\u001b[0;36m2.\u001b[0m\u001b[0;34m,\u001b[0m \u001b[0;34m'P2'\u001b[0m\u001b[0;34m:\u001b[0m \u001b[0mPstar3D\u001b[0m\u001b[0;34m/\u001b[0m\u001b[0;36m2.\u001b[0m\u001b[0;34m,\u001b[0m \u001b[0;34m't1'\u001b[0m\u001b[0;34m:\u001b[0m \u001b[0;36m0.\u001b[0m\u001b[0;34m,\u001b[0m \u001b[0;34m't2'\u001b[0m\u001b[0;34m:\u001b[0m \u001b[0;36m0.\u001b[0m\u001b[0;34m}\u001b[0m\u001b[0;34m\u001b[0m\u001b[0;34m\u001b[0m\u001b[0m\n",
      "\u001b[0;31mAttributeError\u001b[0m: 'NoneType' object has no attribute 'x'"
     ]
    }
   ],
   "source": [
    "# Check the optimization results\n",
    "TS1 = Opt_testS1.opt.x[0] #1.12736777\n",
    "TS2 = Opt_testS2.opt.x[0] #0.62349092\n",
    "#Pstar3D = 2.88325035\n",
    "S3params = {'P1': Pstar3D/2., 'P2': Pstar3D/2., 't1': 0., 't2': 0.}\n",
    "S1params = {'P1': Pstar3D/2., 'P2': Pstar3D/2., 't1': 0., 't2': TS1}\n",
    "S2params = {'P1': Pstar3D/2., 'P2': Pstar3D/2., 't1': 0., 't2': TS2}"
   ]
  },
  {
   "cell_type": "code",
   "execution_count": 50,
   "id": "852751a9",
   "metadata": {},
   "outputs": [],
   "source": [
    "# The three evolution operators, U3, U1, U2\n",
    "PS3 = Ut.Pulses([S3params['P1'], S3params['P2']], [S3params['t1'], S3params['t2']])\n",
    "PS1 = Ut.Pulses([S1params['P1'], S1params['P2']], [S1params['t1'], S1params['t2']])\n",
    "PS2 = Ut.Pulses([S2params['P1'], S2params['P2']], [S2params['t1'], S2params['t2']])\n",
    "\n",
    "U3 = Ut.EvolutionOperators(PS3, dim=dim, name='U3check')\n",
    "U1 = Ut.EvolutionOperators(PS1, dim=dim, name='U1check')\n",
    "U2 = Ut.EvolutionOperators(PS2, dim=dim, name='U2check')"
   ]
  },
  {
   "cell_type": "code",
   "execution_count": 51,
   "id": "5da2dcb1",
   "metadata": {},
   "outputs": [],
   "source": [
    "# Propagate the operators backwards\n",
    "U3_BW = Tm.UBWO(U3.U, Op)\n",
    "U1_BW = Tm.UBW(U1.U, Op)\n",
    "U2_BW = Tm.UBW(U2.U, Op)\n",
    "Op = Tm.PauliN(3, dim)"
   ]
  },
  {
   "cell_type": "code",
   "execution_count": 52,
   "id": "7c28cf69",
   "metadata": {},
   "outputs": [],
   "source": [
    "# Projections on the generalized Pauli operators\n",
    "for i in range(4):\n",
    "    print(i, Tm.Proj(U1_BW, Tm.PauliN(i,dim)), Tm.Proj(U2_BW, Tm.PauliN(i,dim)), Tm.Proj(U3_BW, Tm.PauliN(i,dim)))"
   ]
  },
  {
   "cell_type": "code",
   "execution_count": 53,
   "id": "d6358b19",
   "metadata": {},
   "outputs": [],
   "source": [
    "# Check the optimization results\n",
    "TS1 = 1.12736777\n",
    "TS2 = 0.62349092\n",
    "Pstar3D = 2.88325035\n",
    "S3params = {'P1': Pstar3D, 't2': 0.}\n",
    "S1params = {'P1': Pstar3D, 't2': TS1}\n",
    "S2params = {'P1': Pstar3D, 't2': TS2}"
   ]
  },
  {
   "cell_type": "code",
   "execution_count": 54,
   "id": "a1c5da00",
   "metadata": {},
   "outputs": [],
   "source": [
    "# The three evolution operators, U3, U1, U2\n",
    "PS3 = Ut.Pulses([0., S3params['P1']], [0., S3params['t2']])\n",
    "PS1 = Ut.Pulses([0., S1params['P1']], [0., S1params['t2']])\n",
    "PS2 = Ut.Pulses([0., S2params['P1']], [0., S2params['t2']])\n",
    "\n",
    "U3 = Ut.EvolutionOperators(PS3, dim=dim, name='U3check')\n",
    "U1 = Ut.EvolutionOperators(PS1, dim=dim, name='U1check')\n",
    "U2 = Ut.EvolutionOperators(PS2, dim=dim, name='U2check')"
   ]
  },
  {
   "cell_type": "code",
   "execution_count": null,
   "id": "f5476c4b",
   "metadata": {},
   "outputs": [],
   "source": []
  },
  {
   "cell_type": "code",
   "execution_count": 55,
   "id": "dd470fcd",
   "metadata": {},
   "outputs": [],
   "source": [
    "# Propagate the operators backwards\n",
    "U3_BW = Tm.UBWO(U3.U, Op)\n",
    "U1_BW = Tm.UBW(U1.U, Op)\n",
    "U2_BW = Tm.UBW(U2.U, Op)"
   ]
  },
  {
   "cell_type": "code",
   "execution_count": 56,
   "id": "ba1a4cd3",
   "metadata": {},
   "outputs": [],
   "source": [
    "# Projections on the generalized Pauli operators\n",
    "for i in range(4):\n",
    "    print(i, Tm.Proj(U1_BW, Tm.PauliN(i,dim)), Tm.Proj(U2_BW, Tm.PauliN(i,dim)), Tm.Proj(U3_BW, Tm.PauliN(i,dim)))"
   ]
  },
  {
   "cell_type": "code",
   "execution_count": null,
   "id": "d2953bc6",
   "metadata": {},
   "outputs": [],
   "source": []
  }
 ],
 "metadata": {
  "kernelspec": {
   "display_name": "Python 3 (ipykernel)",
   "language": "python",
   "name": "python3"
  },
  "language_info": {
   "codemirror_mode": {
    "name": "ipython",
    "version": 3
   },
   "file_extension": ".py",
   "mimetype": "text/x-python",
   "name": "python",
   "nbconvert_exporter": "python",
   "pygments_lexer": "ipython3",
   "version": "3.10.12"
  }
 },
 "nbformat": 4,
 "nbformat_minor": 5
}
